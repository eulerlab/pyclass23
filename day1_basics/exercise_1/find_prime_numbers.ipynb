{
 "cells": [
  {
   "cell_type": "markdown",
   "id": "55f84db4",
   "metadata": {},
   "source": [
    "### Task: list all the prime number from 1 to 100."
   ]
  },
  {
   "cell_type": "markdown",
   "id": "5b919f53",
   "metadata": {},
   "source": [
    "#### tipps\n",
    "\n",
    "1. Google is your friend\n",
    "2. avoid \"copy&past\"\n",
    "3. key question - \"How is a prime number define\"\n",
    "4. key quesiton - \"How can one translate the definition above from human-language to a program-language?\""
   ]
  },
  {
   "cell_type": "code",
   "execution_count": 1,
   "id": "c3303880",
   "metadata": {},
   "outputs": [],
   "source": [
    "# I will start you off easy"
   ]
  },
  {
   "cell_type": "code",
   "execution_count": 2,
   "id": "230912e7",
   "metadata": {},
   "outputs": [],
   "source": [
    "# create a list of nature number from 1 to 100\n",
    "candidates = [each for each in range(101)]"
   ]
  },
  {
   "cell_type": "markdown",
   "id": "30cda7c0",
   "metadata": {},
   "source": [
    "#### fun facts:\n",
    "1. range(101) is the same as range(0,101)\n",
    "2. range(a,b) will include a, but not b (e.g. a more mathematical expression [a,b))"
   ]
  },
  {
   "cell_type": "code",
   "execution_count": 3,
   "id": "d30c62c0",
   "metadata": {},
   "outputs": [],
   "source": [
    "# an empty list to add prime number only\n",
    "primes = []"
   ]
  },
  {
   "cell_type": "code",
   "execution_count": 4,
   "id": "733d102c",
   "metadata": {},
   "outputs": [
    {
     "ename": "SyntaxError",
     "evalue": "invalid syntax (2517610697.py, line 3)",
     "output_type": "error",
     "traceback": [
      "\u001b[1;36m  Input \u001b[1;32mIn [4]\u001b[1;36m\u001b[0m\n\u001b[1;33m    if :\u001b[0m\n\u001b[1;37m       ^\u001b[0m\n\u001b[1;31mSyntaxError\u001b[0m\u001b[1;31m:\u001b[0m invalid syntax\n"
     ]
    }
   ],
   "source": [
    "## iterate through from 1 to 100\n",
    "for each in candidate:\n",
    "    if :\n",
    "    # is a prime:\n",
    "    # implement the logic here\n",
    "        primes.append(each)\n",
    "    else:\n",
    "    # no a prime  "
   ]
  },
  {
   "cell_type": "code",
   "execution_count": 7,
   "id": "7a93f6a1",
   "metadata": {},
   "outputs": [
    {
     "ename": "NameError",
     "evalue": "name 'primes' is not defined",
     "output_type": "error",
     "traceback": [
      "\u001b[0;31m---------------------------------------------------------------------------\u001b[0m",
      "\u001b[0;31mNameError\u001b[0m                                 Traceback (most recent call last)",
      "Cell \u001b[0;32mIn[7], line 2\u001b[0m\n\u001b[1;32m      1\u001b[0m \u001b[38;5;66;03m# show the result\u001b[39;00m\n\u001b[0;32m----> 2\u001b[0m \u001b[38;5;28mprint\u001b[39m(\u001b[43mprimes\u001b[49m)\n",
      "\u001b[0;31mNameError\u001b[0m: name 'primes' is not defined"
     ]
    }
   ],
   "source": [
    "# show the result\n",
    "print(primes)"
   ]
  },
  {
   "cell_type": "code",
   "execution_count": null,
   "id": "6f6457a7",
   "metadata": {},
   "outputs": [],
   "source": []
  }
 ],
 "metadata": {
  "kernelspec": {
   "display_name": "Python 3 (ipykernel)",
   "language": "python",
   "name": "python3"
  },
  "language_info": {
   "codemirror_mode": {
    "name": "ipython",
    "version": 3
   },
   "file_extension": ".py",
   "mimetype": "text/x-python",
   "name": "python",
   "nbconvert_exporter": "python",
   "pygments_lexer": "ipython3",
   "version": "3.8.8"
  }
 },
 "nbformat": 4,
 "nbformat_minor": 5
}
