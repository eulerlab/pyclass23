{
 "cells": [
  {
   "cell_type": "code",
   "execution_count": 1,
   "metadata": {
    "collapsed": true
   },
   "outputs": [],
   "source": [
    "import numpy as np"
   ]
  },
  {
   "cell_type": "markdown",
   "source": [
    "# Existing data\n",
    "\n",
    "We randomly generated data with shapes (100, 3).\n",
    "Assume these are 100 samples from 3 groups.\n",
    "Each sample has a value (float) stored in \"data.npy\" and a name (string) stored in \"names.npy\".\n",
    "\n",
    "In one group, there were fewer samples, and the matrices have been filled with NaNs (data) and empty strings (names).\n",
    "\n",
    "The NaNs and respective names (see above) are to be ignored in all tasks.\n",
    "For example, you can use \"np.nanmean\" instead of \"np.mean\" to automatically ignore NaNs"
   ],
   "metadata": {
    "collapsed": false
   }
  },
  {
   "cell_type": "code",
   "execution_count": 6,
   "outputs": [],
   "source": [
    "%run create_dataset.py"
   ],
   "metadata": {
    "collapsed": false
   }
  },
  {
   "cell_type": "code",
   "execution_count": 7,
   "outputs": [],
   "source": [
    "# Load data\n",
    "dat = np.load('data.npy')\n",
    "nam = np.load('names.npy')"
   ],
   "metadata": {
    "collapsed": false
   }
  },
  {
   "cell_type": "markdown",
   "source": [
    "print the shapes and data types of both arrays"
   ],
   "metadata": {
    "collapsed": false
   }
  },
  {
   "cell_type": "code",
   "execution_count": 8,
   "outputs": [],
   "source": [
    "# Enter code:"
   ],
   "metadata": {
    "collapsed": false
   }
  },
  {
   "cell_type": "markdown",
   "source": [
    "compute the means of all 3 groups, ignore NaNs"
   ],
   "metadata": {
    "collapsed": false
   }
  },
  {
   "cell_type": "code",
   "execution_count": null,
   "outputs": [],
   "source": [
    "# Enter code:"
   ],
   "metadata": {
    "collapsed": false,
    "pycharm": {
     "is_executing": true
    }
   }
  },
  {
   "cell_type": "markdown",
   "source": [
    "compute the means of all 3 groups, but ignore the first 10 and last 10 samples of each group"
   ],
   "metadata": {
    "collapsed": false
   }
  },
  {
   "cell_type": "code",
   "execution_count": null,
   "outputs": [],
   "source": [
    "# Enter code:"
   ],
   "metadata": {
    "collapsed": false,
    "pycharm": {
     "is_executing": true
    }
   }
  },
  {
   "cell_type": "markdown",
   "source": [
    "compute the standard deviations and standard errors of all 3 groups"
   ],
   "metadata": {
    "collapsed": false
   }
  },
  {
   "cell_type": "code",
   "execution_count": null,
   "outputs": [],
   "source": [
    "# Enter code:"
   ],
   "metadata": {
    "collapsed": false,
    "pycharm": {
     "is_executing": true
    }
   }
  },
  {
   "cell_type": "markdown",
   "source": [
    "find the maximum for each group, and the maximum value across all groups"
   ],
   "metadata": {
    "collapsed": false
   }
  },
  {
   "cell_type": "code",
   "execution_count": null,
   "outputs": [],
   "source": [
    "# Enter code:"
   ],
   "metadata": {
    "collapsed": false,
    "pycharm": {
     "is_executing": true
    }
   }
  },
  {
   "cell_type": "markdown",
   "source": [
    "create a new array with the same shape and sorted values of each group in descending order (NaNs, come last).\n",
    "\n",
    "optional: sort the names of each group respectively. hint: use \"np.argsort\" and \"np.take_along_axis\""
   ],
   "metadata": {
    "collapsed": false
   }
  },
  {
   "cell_type": "code",
   "execution_count": null,
   "outputs": [],
   "source": [
    "# Enter code:"
   ],
   "metadata": {
    "collapsed": false,
    "pycharm": {
     "is_executing": true
    }
   }
  },
  {
   "cell_type": "markdown",
   "source": [
    "find the name of the sample with the largest value"
   ],
   "metadata": {
    "collapsed": false
   }
  },
  {
   "cell_type": "code",
   "execution_count": null,
   "outputs": [],
   "source": [
    "# Enter code:"
   ],
   "metadata": {
    "collapsed": false,
    "pycharm": {
     "is_executing": true
    }
   }
  },
  {
   "cell_type": "markdown",
   "source": [
    "for the first group, find all values smaller than 3"
   ],
   "metadata": {
    "collapsed": false
   }
  },
  {
   "cell_type": "code",
   "execution_count": null,
   "outputs": [],
   "source": [
    "# Enter code:"
   ],
   "metadata": {
    "collapsed": false,
    "pycharm": {
     "is_executing": true
    }
   }
  },
  {
   "cell_type": "markdown",
   "source": [
    "for all groups, find all names that start with an a. put them all in a single array"
   ],
   "metadata": {
    "collapsed": false
   }
  },
  {
   "cell_type": "code",
   "execution_count": null,
   "outputs": [],
   "source": [
    "# Enter code:"
   ],
   "metadata": {
    "collapsed": false,
    "pycharm": {
     "is_executing": true
    }
   }
  },
  {
   "cell_type": "markdown",
   "source": [
    "create a new array where the dimensions are swapped. print the shape."
   ],
   "metadata": {
    "collapsed": false
   }
  },
  {
   "cell_type": "code",
   "execution_count": 2,
   "outputs": [],
   "source": [
    "# Enter code:"
   ],
   "metadata": {
    "collapsed": false
   }
  },
  {
   "cell_type": "markdown",
   "source": [
    "create a new array from data where every 2nd sample per group is removed. print the shape."
   ],
   "metadata": {
    "collapsed": false
   }
  },
  {
   "cell_type": "code",
   "execution_count": 1,
   "outputs": [],
   "source": [
    "# Enter code:"
   ],
   "metadata": {
    "collapsed": false
   }
  },
  {
   "cell_type": "markdown",
   "source": [
    "find the value of the sample with most a's in the name. find all if multiple exist"
   ],
   "metadata": {
    "collapsed": false
   }
  },
  {
   "cell_type": "code",
   "execution_count": null,
   "outputs": [],
   "source": [
    "# Enter code:"
   ],
   "metadata": {
    "collapsed": false,
    "pycharm": {
     "is_executing": true
    }
   }
  },
  {
   "cell_type": "markdown",
   "source": [
    "implement three ways to index the 90th sample of the second group.\n",
    "\n",
    "confirm that all methods give the same value.\n",
    "\n",
    "hint: the first value of a 1d array in indexed by \"arr[0]\" and not \"arr[1]\""
   ],
   "metadata": {
    "collapsed": false
   }
  },
  {
   "cell_type": "code",
   "execution_count": 4,
   "outputs": [],
   "source": [
    "# Enter code:"
   ],
   "metadata": {
    "collapsed": false
   }
  },
  {
   "cell_type": "markdown",
   "source": [
    "# New data"
   ],
   "metadata": {
    "collapsed": false
   }
  },
  {
   "cell_type": "markdown",
   "source": [
    "create an array with all even numbers between 0 and 100, sorted from highest to lowest"
   ],
   "metadata": {
    "collapsed": false
   }
  },
  {
   "cell_type": "code",
   "execution_count": null,
   "outputs": [],
   "source": [
    "# Enter code:"
   ],
   "metadata": {
    "collapsed": false,
    "pycharm": {
     "is_executing": true
    }
   }
  },
  {
   "cell_type": "markdown",
   "source": [
    "draw 100 samples from a normal distribution with mean=0 and stddev=3, then drop all values larger than 3 or smaller than -3"
   ],
   "metadata": {
    "collapsed": false
   }
  },
  {
   "cell_type": "code",
   "execution_count": null,
   "outputs": [],
   "source": [
    "# Enter code:"
   ],
   "metadata": {
    "collapsed": false,
    "pycharm": {
     "is_executing": true
    }
   }
  },
  {
   "cell_type": "markdown",
   "source": [
    "draw samples from a bionomial distribution with n=10, p=0.5 and shape (20, 3, 4)"
   ],
   "metadata": {
    "collapsed": false
   }
  },
  {
   "cell_type": "code",
   "execution_count": null,
   "outputs": [],
   "source": [
    "# Enter code:"
   ],
   "metadata": {
    "collapsed": false,
    "pycharm": {
     "is_executing": true
    }
   }
  },
  {
   "cell_type": "markdown",
   "source": [
    "# More complex data\n",
    "\n",
    "This dataset contains sample from three different plants.\n",
    "Each sample has 4 attributes (floats), stored in X, and a class / plant index, stored in y.\n",
    "\n",
    "The attributes in X are:\n",
    "- sepal length in cm\n",
    "- sepal width in cm\n",
    "- petal length in cm\n",
    "- petal width in cm\n",
    "\n",
    "The classes in y refer to:\n",
    "0: Iris-Setosa\n",
    "1: Iris-Versicolour\n",
    "2: Iris-Virginica"
   ],
   "metadata": {
    "collapsed": false
   }
  },
  {
   "cell_type": "code",
   "execution_count": null,
   "outputs": [],
   "source": [
    "from sklearn.datasets import load_iris\n",
    "\n",
    "X, y = load_iris(as_frame=False, return_X_y=True)"
   ],
   "metadata": {
    "collapsed": false,
    "pycharm": {
     "is_executing": true
    }
   }
  },
  {
   "cell_type": "markdown",
   "source": [
    "Describe the data.\n",
    "\n",
    "Start with counting the number of samples per class (plant index)."
   ],
   "metadata": {
    "collapsed": false
   }
  },
  {
   "cell_type": "code",
   "execution_count": null,
   "outputs": [],
   "source": [
    "# Enter code:"
   ],
   "metadata": {
    "collapsed": false,
    "pycharm": {
     "is_executing": true
    }
   }
  },
  {
   "cell_type": "markdown",
   "source": [
    "Summarize the attribute distributions of all 3 classes, e.g. compute means etc."
   ],
   "metadata": {
    "collapsed": false
   }
  },
  {
   "cell_type": "code",
   "execution_count": null,
   "outputs": [],
   "source": [
    "# Enter code:"
   ],
   "metadata": {
    "collapsed": false,
    "pycharm": {
     "is_executing": true
    }
   }
  },
  {
   "cell_type": "markdown",
   "source": [
    "# Advanced"
   ],
   "metadata": {
    "collapsed": false
   }
  },
  {
   "cell_type": "markdown",
   "source": [
    "Define a function that generates an array of unsigned integers between 0 and 10 of size=(50, 100), i.e. 50 rows and 100 columns"
   ],
   "metadata": {
    "collapsed": false
   }
  },
  {
   "cell_type": "code",
   "execution_count": 7,
   "outputs": [],
   "source": [
    "# Enter code:\n",
    "def sample_test_arr():\n",
    "    test_arr = None # TODO: implement\n",
    "    return test_arr"
   ],
   "metadata": {
    "collapsed": false
   }
  },
  {
   "cell_type": "markdown",
   "source": [
    "Implement the following function that finds all rows in this array containing any number at least x times, where x is an integer parameter.\n",
    "The array itself should also be a parameter.\n",
    "The return value is an again a 2d array with same dtype, same number of rows, but with potentially fewer columns.\n",
    "\n",
    "Test the function on the test_arr defined above.\n",
    "\n",
    "For example, if x=3:\n",
    "- [0, 1, 1, 2, 1, 3, 4] would be included.\n",
    "- [0, 1, 2, 2, 1, 3, 1] would be included.\n",
    "- [0, 1, 2, 2, 1, 3, 3] would not be included.\n",
    "\n",
    "Make sure no error is raised and the returned shape and data-type is always correct."
   ],
   "metadata": {
    "collapsed": false
   }
  },
  {
   "cell_type": "code",
   "execution_count": 8,
   "outputs": [
    {
     "ename": "AttributeError",
     "evalue": "'NoneType' object has no attribute 'shape'",
     "output_type": "error",
     "traceback": [
      "\u001B[1;31m---------------------------------------------------------------------------\u001B[0m",
      "\u001B[1;31mAttributeError\u001B[0m                            Traceback (most recent call last)",
      "Cell \u001B[1;32mIn[8], line 7\u001B[0m\n\u001B[0;32m      4\u001B[0m     \u001B[38;5;28;01mreturn\u001B[39;00m rows\n\u001B[0;32m      6\u001B[0m test_arr \u001B[38;5;241m=\u001B[39m sample_test_arr()\n\u001B[1;32m----> 7\u001B[0m \u001B[38;5;28mprint\u001B[39m(\u001B[43mfind_all_rows_with_n_reps\u001B[49m\u001B[43m(\u001B[49m\u001B[43marr\u001B[49m\u001B[38;5;241;43m=\u001B[39;49m\u001B[43mtest_arr\u001B[49m\u001B[43m,\u001B[49m\u001B[43m \u001B[49m\u001B[43mx\u001B[49m\u001B[38;5;241;43m=\u001B[39;49m\u001B[38;5;241;43m5\u001B[39;49m\u001B[43m)\u001B[49m\u001B[38;5;241;43m.\u001B[39;49m\u001B[43mshape\u001B[49m)\n\u001B[0;32m      8\u001B[0m \u001B[38;5;28mprint\u001B[39m(find_all_rows_with_n_reps(arr\u001B[38;5;241m=\u001B[39mtest_arr, x\u001B[38;5;241m=\u001B[39m\u001B[38;5;241m15\u001B[39m)\u001B[38;5;241m.\u001B[39mshape)\n\u001B[0;32m      9\u001B[0m \u001B[38;5;28mprint\u001B[39m(find_all_rows_with_n_reps(arr\u001B[38;5;241m=\u001B[39mtest_arr, x\u001B[38;5;241m=\u001B[39m\u001B[38;5;241m30\u001B[39m)\u001B[38;5;241m.\u001B[39mshape)\n",
      "\u001B[1;31mAttributeError\u001B[0m: 'NoneType' object has no attribute 'shape'"
     ]
    }
   ],
   "source": [
    "def find_all_rows_with_n_reps(arr, x):\n",
    "    # TODO: Implement\n",
    "    rows = None\n",
    "    return rows\n",
    "\n",
    "test_arr = sample_test_arr()\n",
    "print(find_all_rows_with_n_reps(arr=test_arr, x=5).shape)\n",
    "print(find_all_rows_with_n_reps(arr=test_arr, x=15).shape)\n",
    "print(find_all_rows_with_n_reps(arr=test_arr, x=30).shape)"
   ],
   "metadata": {
    "collapsed": false
   }
  },
  {
   "cell_type": "markdown",
   "source": [
    "Additional task:\n",
    "\n",
    "- Write a doc-string for the function find_all_rows_with_n_reps."
   ],
   "metadata": {
    "collapsed": false
   }
  },
  {
   "cell_type": "markdown",
   "source": [
    "'Reimplement the function again, but now the repetitions must happen consecutively in each row.\n",
    "\n",
    "For example, if x=3:\n",
    "- [0, 1, 1, 2, 1, 3, 4] would be included.\n",
    "- [0, 1, 2, 2, 1, 3, 1] would not be included.\n",
    "- [0, 1, 2, 2, 1, 3, 3] would not be included.\n",
    "\n",
    "Test the function on the test_arr defined above."
   ],
   "metadata": {
    "collapsed": false
   }
  },
  {
   "cell_type": "code",
   "execution_count": 17,
   "outputs": [
    {
     "ename": "AttributeError",
     "evalue": "'NoneType' object has no attribute 'shape'",
     "output_type": "error",
     "traceback": [
      "\u001B[1;31m---------------------------------------------------------------------------\u001B[0m",
      "\u001B[1;31mAttributeError\u001B[0m                            Traceback (most recent call last)",
      "Cell \u001B[1;32mIn[17], line 7\u001B[0m\n\u001B[0;32m      4\u001B[0m     \u001B[38;5;28;01mreturn\u001B[39;00m rows\n\u001B[0;32m      6\u001B[0m test_arr \u001B[38;5;241m=\u001B[39m sample_test_arr()\n\u001B[1;32m----> 7\u001B[0m \u001B[38;5;28mprint\u001B[39m(\u001B[43mfind_all_rows_with_n_consecutive_reps\u001B[49m\u001B[43m(\u001B[49m\u001B[43marr\u001B[49m\u001B[38;5;241;43m=\u001B[39;49m\u001B[43mtest_arr\u001B[49m\u001B[43m,\u001B[49m\u001B[43m \u001B[49m\u001B[43mx\u001B[49m\u001B[38;5;241;43m=\u001B[39;49m\u001B[38;5;241;43m1\u001B[39;49m\u001B[43m)\u001B[49m\u001B[38;5;241;43m.\u001B[39;49m\u001B[43mshape\u001B[49m)\n\u001B[0;32m      8\u001B[0m \u001B[38;5;28mprint\u001B[39m(find_all_rows_with_n_consecutive_reps(arr\u001B[38;5;241m=\u001B[39mtest_arr, x\u001B[38;5;241m=\u001B[39m\u001B[38;5;241m2\u001B[39m)\u001B[38;5;241m.\u001B[39mshape)\n\u001B[0;32m      9\u001B[0m \u001B[38;5;28mprint\u001B[39m(find_all_rows_with_n_consecutive_reps(arr\u001B[38;5;241m=\u001B[39mtest_arr, x\u001B[38;5;241m=\u001B[39m\u001B[38;5;241m4\u001B[39m)\u001B[38;5;241m.\u001B[39mshape)\n",
      "\u001B[1;31mAttributeError\u001B[0m: 'NoneType' object has no attribute 'shape'"
     ]
    }
   ],
   "source": [
    "def find_all_rows_with_n_consecutive_reps(arr, x):\n",
    "    # TODO: Implement\n",
    "    rows = None\n",
    "    return rows\n",
    "\n",
    "test_arr = sample_test_arr()\n",
    "print(find_all_rows_with_n_consecutive_reps(arr=test_arr, x=1).shape)\n",
    "print(find_all_rows_with_n_consecutive_reps(arr=test_arr, x=2).shape)\n",
    "print(find_all_rows_with_n_consecutive_reps(arr=test_arr, x=4).shape)\n",
    "print(find_all_rows_with_n_consecutive_reps(arr=test_arr, x=10).shape)"
   ],
   "metadata": {
    "collapsed": false
   }
  },
  {
   "cell_type": "markdown",
   "source": [
    "For x in {2, 4, 20}, compute the mean number of rows returned for both \"find_all_rows_with_n_reps\" and \"find_all_rows_with_n_consecutive_reps\".\n",
    "Draw a new sample array each time you evaluate the number of rows.\n",
    "Select an appropriate sample size."
   ],
   "metadata": {
    "collapsed": false
   }
  },
  {
   "cell_type": "code",
   "execution_count": 18,
   "outputs": [],
   "source": [
    "# Enter code:"
   ],
   "metadata": {
    "collapsed": false
   }
  },
  {
   "cell_type": "markdown",
   "source": [
    "# Very advanced (Optional)\n",
    "\n",
    "First, read all tasks in this section!\n",
    "\n",
    "\n",
    "Implement the Hodgkin-Huxley model in numpy. Parameters and equations can be found here:\n",
    "[https://neuronaldynamics.epfl.ch/online/Ch2.S2.html]()"
   ],
   "metadata": {
    "collapsed": false
   }
  },
  {
   "cell_type": "code",
   "execution_count": 27,
   "outputs": [],
   "source": [
    "# Enter code:"
   ],
   "metadata": {
    "collapsed": false
   }
  },
  {
   "cell_type": "markdown",
   "source": [
    "Implement the forward Euler method, e.g. described here [https://en.wikipedia.org/wiki/Euler_method]() as a function that can be used to simulate the HH neuron model described above."
   ],
   "metadata": {
    "collapsed": false
   }
  },
  {
   "cell_type": "code",
   "execution_count": 28,
   "outputs": [],
   "source": [
    "# Enter code:"
   ],
   "metadata": {
    "collapsed": false
   }
  },
  {
   "cell_type": "markdown",
   "source": [
    "Simulate the response of the HH model to a step stimulus using your implementation of the FE method."
   ],
   "metadata": {
    "collapsed": false
   }
  },
  {
   "cell_type": "code",
   "execution_count": 29,
   "outputs": [],
   "source": [
    "# Enter code:"
   ],
   "metadata": {
    "collapsed": false
   }
  },
  {
   "cell_type": "code",
   "execution_count": null,
   "outputs": [],
   "source": [],
   "metadata": {
    "collapsed": false
   }
  }
 ],
 "metadata": {
  "kernelspec": {
   "display_name": "Python 3",
   "language": "python",
   "name": "python3"
  },
  "language_info": {
   "codemirror_mode": {
    "name": "ipython",
    "version": 2
   },
   "file_extension": ".py",
   "mimetype": "text/x-python",
   "name": "python",
   "nbconvert_exporter": "python",
   "pygments_lexer": "ipython2",
   "version": "2.7.6"
  }
 },
 "nbformat": 4,
 "nbformat_minor": 0
}
