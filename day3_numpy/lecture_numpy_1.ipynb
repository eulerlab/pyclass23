{
 "cells": [
  {
   "cell_type": "markdown",
   "source": [
    "# Numpy\n",
    "\n",
    "The structure of this notebook is inspired by w3schools: https://www.w3schools.com/python/numpy/\n",
    "\n",
    "NumPy = Numerical Python\n",
    "\n",
    "What is numpy?\n",
    "- A library for arrays\n",
    "- Good for linear algebra\n",
    "- Fast computation\n",
    "\n",
    "Why use numpy?\n",
    "- A lot faster than lists\n",
    "- Often easier to use\n",
    "- Great for data science\n",
    "\n",
    "Code can be found here:\n",
    "https://github.com/numpy/numpy\n"
   ],
   "metadata": {
    "collapsed": false
   }
  },
  {
   "cell_type": "markdown",
   "source": [
    "## Installation"
   ],
   "metadata": {
    "collapsed": false
   }
  },
  {
   "cell_type": "code",
   "execution_count": 1,
   "outputs": [
    {
     "name": "stdout",
     "output_type": "stream",
     "text": [
      "Requirement already satisfied: numpy in c:\\users\\joesterle\\anaconda3\\envs\\datascience\\lib\\site-packages (1.24.2)\n"
     ]
    }
   ],
   "source": [
    "!pip install numpy"
   ],
   "metadata": {
    "collapsed": false
   }
  },
  {
   "cell_type": "markdown",
   "source": [
    "## Importing numpy"
   ],
   "metadata": {
    "collapsed": false
   }
  },
  {
   "cell_type": "code",
   "execution_count": 2,
   "outputs": [],
   "source": [
    "import numpy as np"
   ],
   "metadata": {
    "collapsed": false
   }
  },
  {
   "cell_type": "markdown",
   "source": [
    "# Arrays"
   ],
   "metadata": {
    "collapsed": false
   }
  },
  {
   "cell_type": "markdown",
   "source": [
    "## Creating arrays from other data types"
   ],
   "metadata": {
    "collapsed": false
   }
  },
  {
   "cell_type": "code",
   "execution_count": 3,
   "outputs": [
    {
     "name": "stdout",
     "output_type": "stream",
     "text": [
      "<class 'list'>\n",
      "[1, 3, 4, 5]\n"
     ]
    }
   ],
   "source": [
    "# Python list\n",
    "dat = [1 ,3, 4, 5]\n",
    "print(type(dat))\n",
    "print(dat)"
   ],
   "metadata": {
    "collapsed": false
   }
  },
  {
   "cell_type": "code",
   "execution_count": 4,
   "outputs": [
    {
     "name": "stdout",
     "output_type": "stream",
     "text": [
      "<class 'numpy.ndarray'>\n",
      "[1 3 4 5]\n"
     ]
    }
   ],
   "source": [
    "# NumPy array from lists\n",
    "dat = np.array([1 ,3, 4, 5])\n",
    "print(type(dat))\n",
    "print(dat)"
   ],
   "metadata": {
    "collapsed": false
   }
  },
  {
   "cell_type": "code",
   "execution_count": 5,
   "outputs": [
    {
     "name": "stdout",
     "output_type": "stream",
     "text": [
      "<class 'numpy.ndarray'>\n",
      "[1 3 4 5]\n"
     ]
    }
   ],
   "source": [
    "# NumPy array from tuples\n",
    "dat = np.array((1 ,3, 4, 5))\n",
    "print(type(dat))\n",
    "print(dat)"
   ],
   "metadata": {
    "collapsed": false
   }
  },
  {
   "cell_type": "markdown",
   "source": [
    "## Creating (multidimensional) arrays"
   ],
   "metadata": {
    "collapsed": false
   }
  },
  {
   "cell_type": "code",
   "execution_count": 6,
   "outputs": [
    {
     "name": "stdout",
     "output_type": "stream",
     "text": [
      "0\n",
      "()\n"
     ]
    }
   ],
   "source": [
    "# 0 dimensions\n",
    "dat = np.array(1)\n",
    "print(dat.ndim)\n",
    "print(dat.shape)"
   ],
   "metadata": {
    "collapsed": false
   }
  },
  {
   "cell_type": "code",
   "execution_count": 7,
   "outputs": [
    {
     "name": "stdout",
     "output_type": "stream",
     "text": [
      "1\n",
      "(3,)\n"
     ]
    }
   ],
   "source": [
    "# 1 dimension\n",
    "dat = np.array([1, 3, 4])\n",
    "print(dat.ndim)\n",
    "print(dat.shape)"
   ],
   "metadata": {
    "collapsed": false
   }
  },
  {
   "cell_type": "code",
   "execution_count": 8,
   "outputs": [
    {
     "name": "stdout",
     "output_type": "stream",
     "text": [
      "2\n",
      "(2, 3)\n"
     ]
    }
   ],
   "source": [
    "# 2 dimensions\n",
    "dat = np.array([[1, 3, 4], [10, 3, 4]])\n",
    "print(dat.ndim)\n",
    "print(dat.shape)"
   ],
   "metadata": {
    "collapsed": false
   }
  },
  {
   "cell_type": "code",
   "execution_count": 9,
   "outputs": [
    {
     "name": "stdout",
     "output_type": "stream",
     "text": [
      "3\n",
      "(1, 4, 3)\n"
     ]
    }
   ],
   "source": [
    "# 3 dimensions\n",
    "dat = np.array([[[1, 3, 4], [10, 3, 4], [1, 3, 4], [10, 3, 4]]])\n",
    "print(dat.ndim)\n",
    "print(dat.shape)"
   ],
   "metadata": {
    "collapsed": false
   }
  },
  {
   "cell_type": "markdown",
   "source": [
    "# Utility function for creating new arrays\n",
    "\n",
    "You can set the shape and datatypes."
   ],
   "metadata": {
    "collapsed": false
   }
  },
  {
   "cell_type": "code",
   "execution_count": 10,
   "outputs": [
    {
     "name": "stdout",
     "output_type": "stream",
     "text": [
      "[[1. 1. 1. 1.]\n",
      " [1. 1. 1. 1.]\n",
      " [1. 1. 1. 1.]]\n"
     ]
    }
   ],
   "source": [
    "dat = np.ones((3, 4))\n",
    "print(dat)"
   ],
   "metadata": {
    "collapsed": false
   }
  },
  {
   "cell_type": "code",
   "execution_count": 11,
   "outputs": [
    {
     "name": "stdout",
     "output_type": "stream",
     "text": [
      "[[False False False False]\n",
      " [False False False False]\n",
      " [False False False False]]\n"
     ]
    }
   ],
   "source": [
    "dat = np.zeros((3, 4), dtype=bool)\n",
    "print(dat)"
   ],
   "metadata": {
    "collapsed": false
   }
  },
  {
   "cell_type": "code",
   "execution_count": 12,
   "outputs": [
    {
     "name": "stdout",
     "output_type": "stream",
     "text": [
      "[[99 99]\n",
      " [99 99]]\n"
     ]
    }
   ],
   "source": [
    "dat = np.full((2, 2), 99)\n",
    "print(dat)"
   ],
   "metadata": {
    "collapsed": false
   }
  },
  {
   "cell_type": "code",
   "execution_count": 13,
   "outputs": [
    {
     "name": "stdout",
     "output_type": "stream",
     "text": [
      "[0 1 2 3 4 5]\n"
     ]
    }
   ],
   "source": [
    "dat = np.arange(6)\n",
    "print(dat)"
   ],
   "metadata": {
    "collapsed": false
   }
  },
  {
   "cell_type": "markdown",
   "source": [
    "# Indexing"
   ],
   "metadata": {
    "collapsed": false
   }
  },
  {
   "cell_type": "markdown",
   "source": [
    "## Simple indexing"
   ],
   "metadata": {
    "collapsed": false
   }
  },
  {
   "cell_type": "code",
   "execution_count": 14,
   "outputs": [
    {
     "name": "stdout",
     "output_type": "stream",
     "text": [
      "1\n"
     ]
    }
   ],
   "source": [
    "# 1 d\n",
    "dat = np.array([1, 2, 3, 4])\n",
    "print(dat[0])"
   ],
   "metadata": {
    "collapsed": false
   }
  },
  {
   "cell_type": "code",
   "execution_count": 15,
   "outputs": [
    {
     "name": "stdout",
     "output_type": "stream",
     "text": [
      "1\n",
      "5\n"
     ]
    }
   ],
   "source": [
    "# 2 d\n",
    "dat = np.array([[1, 3, 4], [10, 3, 5]])\n",
    "print(dat[0, 0])\n",
    "print(dat[1, 2])"
   ],
   "metadata": {
    "collapsed": false
   }
  },
  {
   "cell_type": "markdown",
   "source": [
    "## Negative indexing"
   ],
   "metadata": {
    "collapsed": false
   }
  },
  {
   "cell_type": "code",
   "execution_count": 16,
   "outputs": [
    {
     "name": "stdout",
     "output_type": "stream",
     "text": [
      "4\n",
      "3\n"
     ]
    }
   ],
   "source": [
    "# 1 d\n",
    "dat = np.array([1, 2, 3, 4])\n",
    "print(dat[-1])\n",
    "print(dat[-2])"
   ],
   "metadata": {
    "collapsed": false
   }
  },
  {
   "cell_type": "code",
   "execution_count": 17,
   "outputs": [
    {
     "name": "stdout",
     "output_type": "stream",
     "text": [
      "4\n",
      "10\n"
     ]
    }
   ],
   "source": [
    "# 2 d\n",
    "dat = np.array([[1, 3, 4], [10, 3, 5]])\n",
    "print(dat[0, -1])\n",
    "print(dat[-1, 0])"
   ],
   "metadata": {
    "collapsed": false
   }
  },
  {
   "cell_type": "markdown",
   "source": [
    "## Slicing"
   ],
   "metadata": {
    "collapsed": false
   }
  },
  {
   "cell_type": "code",
   "execution_count": 18,
   "outputs": [
    {
     "name": "stdout",
     "output_type": "stream",
     "text": [
      "[2 3 4]\n",
      "[2 3 4 5 6]\n",
      "[1 2 3 4]\n",
      "[4 5 6]\n",
      "[3 4]\n",
      "[3 4]\n",
      "[1 2 3 4 5 6]\n"
     ]
    }
   ],
   "source": [
    "# 1 d\n",
    "dat = np.array([1, 2, 3, 4, 5, 6])\n",
    "print(dat[1:4])\n",
    "print(dat[1:])\n",
    "print(dat[:4])\n",
    "print(dat[-3:])\n",
    "print(dat[2:-2])\n",
    "print(dat[-4:-2])\n",
    "print(dat[:])"
   ],
   "metadata": {
    "collapsed": false
   }
  },
  {
   "cell_type": "code",
   "execution_count": 19,
   "outputs": [
    {
     "name": "stdout",
     "output_type": "stream",
     "text": [
      "[[1 2 3 4 5 6]]\n",
      "[2 3 4]\n",
      "[[1 2 3]\n",
      " [1 2 3]]\n"
     ]
    }
   ],
   "source": [
    "# 2 d\n",
    "dat = np.array([[1, 2, 3, 4, 5, 6], [1, 2, 3, 4, 5, 6]])\n",
    "print(dat[1:4, :])\n",
    "print(dat[-1, 1:4])\n",
    "print(dat[:, :-3])"
   ],
   "metadata": {
    "collapsed": false
   }
  },
  {
   "cell_type": "markdown",
   "source": [
    "## Steps"
   ],
   "metadata": {
    "collapsed": false
   }
  },
  {
   "cell_type": "code",
   "execution_count": 20,
   "outputs": [
    {
     "name": "stdout",
     "output_type": "stream",
     "text": [
      "[1 2 3 4 5 6 7 8]\n",
      "[1 3 5 7]\n",
      "[1 4 7]\n",
      "[1 2 3 4 5 6 7 8 9]\n"
     ]
    }
   ],
   "source": [
    "# 1 d\n",
    "dat = np.array([1, 2, 3, 4, 5, 6, 7, 8, 9])\n",
    "print(dat[0:-1:1])\n",
    "print(dat[0:-1:2])\n",
    "print(dat[0:-1:3])\n",
    "print(dat[::1])"
   ],
   "metadata": {
    "collapsed": false
   }
  },
  {
   "cell_type": "markdown",
   "source": [
    "## Inverting order"
   ],
   "metadata": {
    "collapsed": false
   }
  },
  {
   "cell_type": "code",
   "execution_count": 21,
   "outputs": [
    {
     "name": "stdout",
     "output_type": "stream",
     "text": [
      "[1 2 3]\n",
      "[3 2 1]\n"
     ]
    }
   ],
   "source": [
    "arr = np.array([1, 2, 3])\n",
    "arr2 = arr[::-1]\n",
    "print(arr)\n",
    "print(arr2)"
   ],
   "metadata": {
    "collapsed": false
   }
  },
  {
   "cell_type": "markdown",
   "source": [
    "# Data Types\n",
    "\n",
    "Common types in Data Science:\n",
    "- integer (int)\n",
    "- float\n",
    "- boolean\n",
    "- unsigned integer (uint)\n",
    "- strings\n"
   ],
   "metadata": {
    "collapsed": false
   }
  },
  {
   "cell_type": "markdown",
   "source": [
    "## Getting started"
   ],
   "metadata": {
    "collapsed": false
   }
  },
  {
   "cell_type": "code",
   "execution_count": 22,
   "outputs": [
    {
     "data": {
      "text/plain": "dtype('int32')"
     },
     "execution_count": 22,
     "metadata": {},
     "output_type": "execute_result"
    }
   ],
   "source": [
    "dat = np.array([1, 2, 3])\n",
    "dat.dtype"
   ],
   "metadata": {
    "collapsed": false
   }
  },
  {
   "cell_type": "code",
   "execution_count": 23,
   "outputs": [
    {
     "data": {
      "text/plain": "dtype('float64')"
     },
     "execution_count": 23,
     "metadata": {},
     "output_type": "execute_result"
    }
   ],
   "source": [
    "dat = np.array([1.3, 2.2, 3.4])\n",
    "dat.dtype"
   ],
   "metadata": {
    "collapsed": false
   }
  },
  {
   "cell_type": "code",
   "execution_count": 24,
   "outputs": [
    {
     "data": {
      "text/plain": "dtype('float64')"
     },
     "execution_count": 24,
     "metadata": {},
     "output_type": "execute_result"
    }
   ],
   "source": [
    "dat = np.array([1., 2., 3.])\n",
    "dat.dtype"
   ],
   "metadata": {
    "collapsed": false
   }
  },
  {
   "cell_type": "markdown",
   "source": [
    "## Setting datatypes"
   ],
   "metadata": {
    "collapsed": false
   }
  },
  {
   "cell_type": "code",
   "execution_count": 25,
   "outputs": [
    {
     "data": {
      "text/plain": "dtype('float64')"
     },
     "execution_count": 25,
     "metadata": {},
     "output_type": "execute_result"
    }
   ],
   "source": [
    "dat = np.array([1, 2, 3], dtype=float)\n",
    "dat.dtype"
   ],
   "metadata": {
    "collapsed": false
   }
  },
  {
   "cell_type": "code",
   "execution_count": 26,
   "outputs": [
    {
     "data": {
      "text/plain": "dtype('float16')"
     },
     "execution_count": 26,
     "metadata": {},
     "output_type": "execute_result"
    }
   ],
   "source": [
    "dat = np.array([1, 2, 3], dtype=np.float16)\n",
    "dat.dtype"
   ],
   "metadata": {
    "collapsed": false
   }
  },
  {
   "cell_type": "code",
   "execution_count": 27,
   "outputs": [
    {
     "data": {
      "text/plain": "dtype('uint32')"
     },
     "execution_count": 27,
     "metadata": {},
     "output_type": "execute_result"
    }
   ],
   "source": [
    "dat = np.array([1, 2, 3], dtype=\"uint\")\n",
    "dat.dtype"
   ],
   "metadata": {
    "collapsed": false
   }
  },
  {
   "cell_type": "code",
   "execution_count": 28,
   "outputs": [
    {
     "name": "stdout",
     "output_type": "stream",
     "text": [
      "<U1\n",
      "['a' '2' '3']\n"
     ]
    }
   ],
   "source": [
    "dat = np.array(['a', 2, 3], dtype=str)\n",
    "print(dat.dtype)\n",
    "print(dat)"
   ],
   "metadata": {
    "collapsed": false
   }
  },
  {
   "cell_type": "markdown",
   "source": [
    "### Make sure to choose a datatype that matches the data you have\n",
    "\n",
    "- Some data-types are automatically converted to other datatypes.\n",
    "- Sometimes this conversion results in a loss of information.\n",
    "- In some cases, there is no default conversion defined, resulting in an error."
   ],
   "metadata": {
    "collapsed": false
   }
  },
  {
   "cell_type": "code",
   "execution_count": 29,
   "outputs": [
    {
     "name": "stdout",
     "output_type": "stream",
     "text": [
      "uint32\n",
      "[4294967295          2          3]\n"
     ]
    }
   ],
   "source": [
    "# Underflow!\n",
    "dat = np.array([-1, 2, 3], dtype=\"uint\")\n",
    "print(dat.dtype)\n",
    "print(dat)"
   ],
   "metadata": {
    "collapsed": false
   }
  },
  {
   "cell_type": "code",
   "execution_count": 30,
   "outputs": [
    {
     "name": "stdout",
     "output_type": "stream",
     "text": [
      "int32\n",
      "[1 2 3]\n"
     ]
    }
   ],
   "source": [
    "# Rounding!\n",
    "dat = np.array([1.99, 2, 3], dtype=\"int\")\n",
    "print(dat.dtype)\n",
    "print(dat)"
   ],
   "metadata": {
    "collapsed": false
   }
  },
  {
   "cell_type": "code",
   "execution_count": 31,
   "outputs": [
    {
     "ename": "ValueError",
     "evalue": "could not convert string to float: 'a'",
     "output_type": "error",
     "traceback": [
      "\u001B[1;31m---------------------------------------------------------------------------\u001B[0m",
      "\u001B[1;31mValueError\u001B[0m                                Traceback (most recent call last)",
      "Cell \u001B[1;32mIn[31], line 2\u001B[0m\n\u001B[0;32m      1\u001B[0m \u001B[38;5;66;03m# ValueError!\u001B[39;00m\n\u001B[1;32m----> 2\u001B[0m dat \u001B[38;5;241m=\u001B[39m \u001B[43mnp\u001B[49m\u001B[38;5;241;43m.\u001B[39;49m\u001B[43marray\u001B[49m\u001B[43m(\u001B[49m\u001B[43m[\u001B[49m\u001B[38;5;124;43m'\u001B[39;49m\u001B[38;5;124;43ma\u001B[39;49m\u001B[38;5;124;43m'\u001B[39;49m\u001B[43m,\u001B[49m\u001B[43m \u001B[49m\u001B[38;5;241;43m2\u001B[39;49m\u001B[43m,\u001B[49m\u001B[43m \u001B[49m\u001B[38;5;241;43m3\u001B[39;49m\u001B[43m]\u001B[49m\u001B[43m,\u001B[49m\u001B[43m \u001B[49m\u001B[43mdtype\u001B[49m\u001B[38;5;241;43m=\u001B[39;49m\u001B[38;5;28;43mfloat\u001B[39;49m\u001B[43m)\u001B[49m\n\u001B[0;32m      3\u001B[0m \u001B[38;5;28mprint\u001B[39m(dat\u001B[38;5;241m.\u001B[39mdtype)\n\u001B[0;32m      4\u001B[0m \u001B[38;5;28mprint\u001B[39m(dat)\n",
      "\u001B[1;31mValueError\u001B[0m: could not convert string to float: 'a'"
     ]
    }
   ],
   "source": [
    "# ValueError!\n",
    "dat = np.array(['a', 2, 3], dtype=float)\n",
    "print(dat.dtype)\n",
    "print(dat)"
   ],
   "metadata": {
    "collapsed": false
   }
  },
  {
   "cell_type": "markdown",
   "source": [
    "# Copy and view\n",
    "\n",
    "Be careful when changing data"
   ],
   "metadata": {
    "collapsed": false
   }
  },
  {
   "cell_type": "code",
   "execution_count": 32,
   "outputs": [
    {
     "name": "stdout",
     "output_type": "stream",
     "text": [
      "[0 9 2 3]\n",
      "[0 9 2 3]\n"
     ]
    }
   ],
   "source": [
    "dat = np.array([0, 1, 2, 3])\n",
    "dat2 = dat\n",
    "dat2[1] = 9\n",
    "\n",
    "print(dat)\n",
    "print(dat2)"
   ],
   "metadata": {
    "collapsed": false
   }
  },
  {
   "cell_type": "code",
   "execution_count": 33,
   "outputs": [
    {
     "name": "stdout",
     "output_type": "stream",
     "text": [
      "[0 1 2 3]\n",
      "[1 2 3]\n",
      "[0 1 9 3]\n",
      "[1 9 3]\n"
     ]
    }
   ],
   "source": [
    "dat = np.array([0, 1, 2, 3])\n",
    "dat2 = dat[1:]\n",
    "\n",
    "print(dat)\n",
    "print(dat2)\n",
    "\n",
    "dat2[1] = 9\n",
    "\n",
    "print(dat)\n",
    "print(dat2)"
   ],
   "metadata": {
    "collapsed": false
   }
  },
  {
   "cell_type": "code",
   "execution_count": 34,
   "outputs": [
    {
     "name": "stdout",
     "output_type": "stream",
     "text": [
      "[0 1 2 3]\n",
      "[0 9 2 3]\n"
     ]
    }
   ],
   "source": [
    "dat = np.array([0, 1, 2, 3])\n",
    "dat2 = dat.copy()\n",
    "dat2[1] = 9\n",
    "\n",
    "print(dat)\n",
    "print(dat2)"
   ],
   "metadata": {
    "collapsed": false
   }
  },
  {
   "cell_type": "code",
   "execution_count": 35,
   "outputs": [
    {
     "name": "stdout",
     "output_type": "stream",
     "text": [
      "[0 9 2 3]\n",
      "[0 9 2 3]\n"
     ]
    }
   ],
   "source": [
    "dat = np.array([0, 1, 2, 3])\n",
    "dat2 = dat.view()\n",
    "dat2[1] = 9\n",
    "\n",
    "print(dat)\n",
    "print(dat2)"
   ],
   "metadata": {
    "collapsed": false
   }
  },
  {
   "cell_type": "code",
   "execution_count": 36,
   "outputs": [
    {
     "name": "stdout",
     "output_type": "stream",
     "text": [
      "[0 1 2 3]\n",
      "[3 4 5 6]\n"
     ]
    }
   ],
   "source": [
    "def add_value(arr, val):  # Makes a copy\n",
    "    arr = arr + val\n",
    "    return arr\n",
    "\n",
    "dat = np.array([0, 1, 2, 3])\n",
    "dat2 = add_value(arr=dat, val=3)\n",
    "print(dat)\n",
    "print(dat2)"
   ],
   "metadata": {
    "collapsed": false
   }
  },
  {
   "cell_type": "code",
   "execution_count": 37,
   "outputs": [
    {
     "name": "stdout",
     "output_type": "stream",
     "text": [
      "[3 4 5 6]\n",
      "[3 4 5 6]\n"
     ]
    }
   ],
   "source": [
    "def add_value(arr, val):  # Does not make copy\n",
    "    arr += val\n",
    "    return arr\n",
    "\n",
    "dat = np.array([0, 1, 2, 3])\n",
    "dat2 = add_value(arr=dat, val=3)\n",
    "print(dat)\n",
    "print(dat2)"
   ],
   "metadata": {
    "collapsed": false
   }
  },
  {
   "cell_type": "markdown",
   "source": [
    "# Reshaping"
   ],
   "metadata": {
    "collapsed": false
   }
  },
  {
   "cell_type": "code",
   "execution_count": 38,
   "outputs": [
    {
     "name": "stdout",
     "output_type": "stream",
     "text": [
      "[[1 2 3]\n",
      " [4 5 6]]\n",
      "[1 2 3 4 5 6]\n"
     ]
    }
   ],
   "source": [
    "dat = np.array([1, 2, 3, 4, 5, 6])\n",
    "\n",
    "dat = dat.reshape((2, 3))\n",
    "print(dat)\n",
    "\n",
    "dat = dat.reshape((6, ))\n",
    "print(dat)"
   ],
   "metadata": {
    "collapsed": false
   }
  },
  {
   "cell_type": "code",
   "execution_count": 39,
   "outputs": [
    {
     "name": "stdout",
     "output_type": "stream",
     "text": [
      "[[1 2 3]\n",
      " [4 5 6]]\n"
     ]
    }
   ],
   "source": [
    "dat = np.array([1, 2, 3, 4, 5, 6])\n",
    "dat = dat.reshape((2, -1))\n",
    "print(dat)"
   ],
   "metadata": {
    "collapsed": false
   }
  },
  {
   "cell_type": "code",
   "execution_count": 40,
   "outputs": [
    {
     "ename": "ValueError",
     "evalue": "cannot reshape array of size 6 into shape (2,2)",
     "output_type": "error",
     "traceback": [
      "\u001B[1;31m---------------------------------------------------------------------------\u001B[0m",
      "\u001B[1;31mValueError\u001B[0m                                Traceback (most recent call last)",
      "Cell \u001B[1;32mIn[40], line 2\u001B[0m\n\u001B[0;32m      1\u001B[0m dat \u001B[38;5;241m=\u001B[39m np\u001B[38;5;241m.\u001B[39marray([\u001B[38;5;241m1\u001B[39m, \u001B[38;5;241m2\u001B[39m, \u001B[38;5;241m3\u001B[39m, \u001B[38;5;241m4\u001B[39m, \u001B[38;5;241m5\u001B[39m, \u001B[38;5;241m6\u001B[39m])\n\u001B[1;32m----> 2\u001B[0m dat \u001B[38;5;241m=\u001B[39m \u001B[43mdat\u001B[49m\u001B[38;5;241;43m.\u001B[39;49m\u001B[43mreshape\u001B[49m\u001B[43m(\u001B[49m\u001B[43m(\u001B[49m\u001B[38;5;241;43m2\u001B[39;49m\u001B[43m,\u001B[49m\u001B[43m \u001B[49m\u001B[38;5;241;43m2\u001B[39;49m\u001B[43m)\u001B[49m\u001B[43m)\u001B[49m\n",
      "\u001B[1;31mValueError\u001B[0m: cannot reshape array of size 6 into shape (2,2)"
     ]
    }
   ],
   "source": [
    "dat = np.array([1, 2, 3, 4, 5, 6])\n",
    "dat = dat.reshape((2, 2))"
   ],
   "metadata": {
    "collapsed": false
   }
  },
  {
   "cell_type": "code",
   "execution_count": 41,
   "outputs": [
    {
     "name": "stdout",
     "output_type": "stream",
     "text": [
      "[1 2 3 4 5 6]\n"
     ]
    }
   ],
   "source": [
    "dat = np.array([[1, 2, 3], [4, 5, 6]])\n",
    "dat = dat.flatten()\n",
    "print(dat)"
   ],
   "metadata": {
    "collapsed": false
   }
  },
  {
   "cell_type": "markdown",
   "source": [
    "# Concatenate"
   ],
   "metadata": {
    "collapsed": false
   }
  },
  {
   "cell_type": "code",
   "execution_count": 42,
   "outputs": [
    {
     "name": "stdout",
     "output_type": "stream",
     "text": [
      "[1 2 3 4 5 6]\n"
     ]
    }
   ],
   "source": [
    "dat1 = np.array([1, 2, 3])\n",
    "dat2 = np.array([4, 5, 6])\n",
    "dat = np.concatenate([dat1, dat2])\n",
    "print(dat)"
   ],
   "metadata": {
    "collapsed": false
   }
  },
  {
   "cell_type": "code",
   "execution_count": 41,
   "outputs": [],
   "source": [],
   "metadata": {
    "collapsed": false
   }
  }
 ],
 "metadata": {
  "kernelspec": {
   "display_name": "Python 3",
   "language": "python",
   "name": "python3"
  },
  "language_info": {
   "codemirror_mode": {
    "name": "ipython",
    "version": 2
   },
   "file_extension": ".py",
   "mimetype": "text/x-python",
   "name": "python",
   "nbconvert_exporter": "python",
   "pygments_lexer": "ipython2",
   "version": "2.7.6"
  }
 },
 "nbformat": 4,
 "nbformat_minor": 0
}
