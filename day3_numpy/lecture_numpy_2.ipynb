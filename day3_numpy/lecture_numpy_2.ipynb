{
 "cells": [
  {
   "cell_type": "markdown",
   "source": [
    "# Numpy\n",
    "\n",
    "The structure of this notebook is inspired by w3schools: https://www.w3schools.com/python/numpy/\n",
    "\n",
    "NumPy = Numerical Python\n",
    "\n",
    "What is numpy?\n",
    "- A library for arrays\n",
    "- Good for linear algebra\n",
    "- Fast computation\n",
    "\n",
    "Why use numpy?\n",
    "- A lot faster than lists\n",
    "- Often easier to use\n",
    "- Great for data science\n",
    "\n",
    "Code can be found here:\n",
    "https://github.com/numpy/numpy\n"
   ],
   "metadata": {
    "collapsed": false
   }
  },
  {
   "cell_type": "code",
   "execution_count": 60,
   "outputs": [],
   "source": [
    "import numpy as np"
   ],
   "metadata": {
    "collapsed": false
   }
  },
  {
   "cell_type": "markdown",
   "source": [
    "# Iterating arrays"
   ],
   "metadata": {
    "collapsed": false
   }
  },
  {
   "cell_type": "code",
   "execution_count": 61,
   "outputs": [
    {
     "name": "stdout",
     "output_type": "stream",
     "text": [
      "i=0: [1 2 3]\n",
      "i=1: [4 5 6]\n",
      "i=2: [7 8 9]\n"
     ]
    }
   ],
   "source": [
    "dat = np.array([[1, 2, 3], [4, 5, 6], [7, 8, 9]])\n",
    "\n",
    "for i in range(3):\n",
    "    print(f\"i={i}:\", dat[i])"
   ],
   "metadata": {
    "collapsed": false
   }
  },
  {
   "cell_type": "code",
   "execution_count": 62,
   "outputs": [
    {
     "name": "stdout",
     "output_type": "stream",
     "text": [
      "i, j: 1\n",
      "i, j: 2\n",
      "i, j: 3\n",
      "i, j: 4\n",
      "i, j: 5\n",
      "i, j: 6\n",
      "i, j: 7\n",
      "i, j: 8\n",
      "i, j: 9\n"
     ]
    }
   ],
   "source": [
    "dat = np.array([[1, 2, 3], [4, 5, 6], [7, 8, 9]])\n",
    "\n",
    "for i in range(3):\n",
    "    for j in range(3):\n",
    "        print('i, j:', dat[i, j])"
   ],
   "metadata": {
    "collapsed": false
   }
  },
  {
   "cell_type": "code",
   "execution_count": 63,
   "outputs": [
    {
     "name": "stdout",
     "output_type": "stream",
     "text": [
      "[1 2 3]\n",
      "[4 5 6]\n",
      "[7 8 9]\n"
     ]
    }
   ],
   "source": [
    "dat = np.array([[1, 2, 3], [4, 5, 6], [7, 8, 9]])\n",
    "\n",
    "for dat_i in dat:\n",
    "    print(dat_i)"
   ],
   "metadata": {
    "collapsed": false
   }
  },
  {
   "cell_type": "code",
   "execution_count": 64,
   "outputs": [
    {
     "name": "stdout",
     "output_type": "stream",
     "text": [
      "i=0: [1 2 3]\n",
      "i=1: [4 5 6]\n",
      "i=2: [7 8 9]\n"
     ]
    }
   ],
   "source": [
    "dat = np.array([[1, 2, 3], [4, 5, 6], [7, 8, 9]])\n",
    "\n",
    "for i, dat_i in enumerate(dat):\n",
    "    print(f\"i={i}:\", dat_i)"
   ],
   "metadata": {
    "collapsed": false
   }
  },
  {
   "cell_type": "code",
   "execution_count": 65,
   "outputs": [
    {
     "name": "stdout",
     "output_type": "stream",
     "text": [
      "i=0: 1\n",
      "i=1: 3\n",
      "i=2: 5\n",
      "i=3: 7\n",
      "i=4: 9\n"
     ]
    }
   ],
   "source": [
    "dat = np.array([[1, 2, 3], [4, 5, 6], [7, 8, 9]])\n",
    "\n",
    "for i, dat_i in enumerate(dat.flat[::2]):\n",
    "    print(f\"i={i}:\", dat_i)"
   ],
   "metadata": {
    "collapsed": false
   }
  },
  {
   "cell_type": "markdown",
   "source": [
    "# Combine multiple arrays"
   ],
   "metadata": {
    "collapsed": false
   }
  },
  {
   "cell_type": "code",
   "execution_count": 66,
   "outputs": [
    {
     "name": "stdout",
     "output_type": "stream",
     "text": [
      "[1 2 3 4 5 6]\n"
     ]
    }
   ],
   "source": [
    "dat1 = np.array([1, 2, 3])\n",
    "dat2 = np.array([4, 5, 6])\n",
    "dat = np.concatenate([dat1, dat2])\n",
    "print(dat)"
   ],
   "metadata": {
    "collapsed": false
   }
  },
  {
   "cell_type": "code",
   "execution_count": 67,
   "outputs": [
    {
     "name": "stdout",
     "output_type": "stream",
     "text": [
      "[1 2 3 4 5 6]\n"
     ]
    }
   ],
   "source": [
    "dat1 = np.array([1, 2, 3])\n",
    "dat2 = np.array([4, 5, 6])\n",
    "dat = np.hstack([dat1, dat2])\n",
    "print(dat)"
   ],
   "metadata": {
    "collapsed": false
   }
  },
  {
   "cell_type": "code",
   "execution_count": 68,
   "outputs": [
    {
     "name": "stdout",
     "output_type": "stream",
     "text": [
      "[[1 2 3]\n",
      " [4 5 6]]\n"
     ]
    }
   ],
   "source": [
    "dat1 = np.array([1, 2, 3])\n",
    "dat2 = np.array([4, 5, 6])\n",
    "dat = np.vstack([dat1, dat2])\n",
    "print(dat)"
   ],
   "metadata": {
    "collapsed": false
   }
  },
  {
   "cell_type": "code",
   "execution_count": 69,
   "outputs": [
    {
     "name": "stdout",
     "output_type": "stream",
     "text": [
      "[[1 2 3 1 2 3]\n",
      " [4 5 6 4 5 6]]\n"
     ]
    }
   ],
   "source": [
    "dat1 = np.array([1, 2, 3])\n",
    "dat2 = np.array([4, 5, 6])\n",
    "dat3 = np.vstack([dat1, dat2])\n",
    "dat = np.hstack([dat3, dat3])\n",
    "print(dat)"
   ],
   "metadata": {
    "collapsed": false
   }
  },
  {
   "cell_type": "code",
   "execution_count": 11,
   "outputs": [
    {
     "name": "stdout",
     "output_type": "stream",
     "text": [
      "[[1 2 3]\n",
      " [4 5 6]]\n"
     ]
    }
   ],
   "source": [
    "dat1 = np.array([1, 2, 3])\n",
    "dat2 = np.array([4, 5, 6])\n",
    "dat = np.stack([dat1, dat2], axis=0)\n",
    "print(dat)"
   ],
   "metadata": {
    "collapsed": false
   }
  },
  {
   "cell_type": "code",
   "execution_count": 12,
   "outputs": [
    {
     "name": "stdout",
     "output_type": "stream",
     "text": [
      "[[1 4]\n",
      " [2 5]\n",
      " [3 6]]\n"
     ]
    }
   ],
   "source": [
    "dat1 = np.array([1, 2, 3])\n",
    "dat2 = np.array([4, 5, 6])\n",
    "dat = np.stack([dat1, dat2], axis=1)\n",
    "print(dat)"
   ],
   "metadata": {
    "collapsed": false
   }
  },
  {
   "cell_type": "markdown",
   "source": [
    "# Splitting arrays"
   ],
   "metadata": {
    "collapsed": false
   }
  },
  {
   "cell_type": "code",
   "execution_count": 13,
   "outputs": [
    {
     "name": "stdout",
     "output_type": "stream",
     "text": [
      "[1 2 3]\n"
     ]
    }
   ],
   "source": [
    "dat = np.array([[1, 2, 3], [4, 5, 6]])\n",
    "dat1, dat2 = dat\n",
    "\n",
    "print(dat1)"
   ],
   "metadata": {
    "collapsed": false
   }
  },
  {
   "cell_type": "code",
   "execution_count": 14,
   "outputs": [
    {
     "name": "stdout",
     "output_type": "stream",
     "text": [
      "[[1 2 3]] [[4 5 6]]\n",
      "(1, 3)\n"
     ]
    }
   ],
   "source": [
    "dat = np.array([[1, 2, 3], [4, 5, 6]])\n",
    "dat1, dat2 = np.array_split(dat, 2)\n",
    "print(dat1, dat2)\n",
    "print(dat1.shape)"
   ],
   "metadata": {
    "collapsed": false
   }
  },
  {
   "cell_type": "code",
   "execution_count": 15,
   "outputs": [
    {
     "name": "stdout",
     "output_type": "stream",
     "text": [
      "[[1 2 3]] [[4 5 6]] []\n",
      "(1, 3)\n"
     ]
    }
   ],
   "source": [
    "dat = np.array([[1, 2, 3], [4, 5, 6]])\n",
    "dat1, dat2, dat3 = np.array_split(dat, 3)\n",
    "print(dat1, dat2, dat3)\n",
    "print(dat1.shape)"
   ],
   "metadata": {
    "collapsed": false
   }
  },
  {
   "cell_type": "code",
   "execution_count": 16,
   "outputs": [
    {
     "name": "stdout",
     "output_type": "stream",
     "text": [
      "[[1 2 3]] [[4 5 6]]\n",
      "(1, 3)\n"
     ]
    }
   ],
   "source": [
    "dat = np.array([[1, 2, 3], [4, 5, 6]])\n",
    "dat1, dat2 = np.vsplit(dat, 2)\n",
    "print(dat1, dat2)\n",
    "print(dat1.shape)"
   ],
   "metadata": {
    "collapsed": false
   }
  },
  {
   "cell_type": "markdown",
   "source": [
    "# Searching"
   ],
   "metadata": {
    "collapsed": false
   }
  },
  {
   "cell_type": "code",
   "execution_count": 17,
   "outputs": [
    {
     "data": {
      "text/plain": "(array([3, 4, 5], dtype=int64),)"
     },
     "execution_count": 17,
     "metadata": {},
     "output_type": "execute_result"
    }
   ],
   "source": [
    "dat = np.array([1, 2, 3, 4, 5, 6])\n",
    "np.where(dat > 3)"
   ],
   "metadata": {
    "collapsed": false
   }
  },
  {
   "cell_type": "code",
   "execution_count": 18,
   "outputs": [
    {
     "data": {
      "text/plain": "6"
     },
     "execution_count": 18,
     "metadata": {},
     "output_type": "execute_result"
    }
   ],
   "source": [
    "dat = np.array([1, 2, 3, 4, 5, 6])\n",
    "dat[np.argmax(dat)]"
   ],
   "metadata": {
    "collapsed": false
   }
  },
  {
   "cell_type": "markdown",
   "source": [
    "# Sorting"
   ],
   "metadata": {
    "collapsed": false
   }
  },
  {
   "cell_type": "code",
   "execution_count": 19,
   "outputs": [
    {
     "name": "stdout",
     "output_type": "stream",
     "text": [
      "[  2   4   5  12 123]\n"
     ]
    }
   ],
   "source": [
    "dat = np.array([2, 123, 5, 12, 4, ])\n",
    "print(np.sort(dat))"
   ],
   "metadata": {
    "collapsed": false
   }
  },
  {
   "cell_type": "code",
   "execution_count": 20,
   "outputs": [
    {
     "name": "stdout",
     "output_type": "stream",
     "text": [
      "[0 4 2 3 1]\n"
     ]
    }
   ],
   "source": [
    "dat = np.array([2, 123, 5, 12, 4, ])\n",
    "print(np.argsort(dat))"
   ],
   "metadata": {
    "collapsed": false
   }
  },
  {
   "cell_type": "code",
   "execution_count": 21,
   "outputs": [
    {
     "name": "stdout",
     "output_type": "stream",
     "text": [
      "['%%%' '12' 'as' 'asd' 'b']\n"
     ]
    }
   ],
   "source": [
    "dat = np.array([\"as\", \"asd\", \"%%%\", \"12\", \"b\", ])\n",
    "print(np.sort(dat))"
   ],
   "metadata": {
    "collapsed": false
   }
  },
  {
   "cell_type": "code",
   "execution_count": 22,
   "outputs": [
    {
     "name": "stdout",
     "output_type": "stream",
     "text": [
      "[[  2   5 123]\n",
      " [  4   8  12]]\n"
     ]
    }
   ],
   "source": [
    "dat = np.array([[2, 123, 5], [12, 4, 8]])\n",
    "print(np.sort(dat, axis=1))"
   ],
   "metadata": {
    "collapsed": false
   }
  },
  {
   "cell_type": "code",
   "execution_count": 23,
   "outputs": [
    {
     "name": "stdout",
     "output_type": "stream",
     "text": [
      "[[  2   4   5]\n",
      " [ 12 123   8]]\n"
     ]
    }
   ],
   "source": [
    "dat = np.array([[2, 123, 5], [12, 4, 8]])\n",
    "print(np.sort(dat, axis=0))"
   ],
   "metadata": {
    "collapsed": false
   }
  },
  {
   "cell_type": "markdown",
   "source": [
    "# Filtering and masking"
   ],
   "metadata": {
    "collapsed": false
   }
  },
  {
   "cell_type": "code",
   "execution_count": 24,
   "outputs": [
    {
     "name": "stdout",
     "output_type": "stream",
     "text": [
      "[123  12]\n"
     ]
    }
   ],
   "source": [
    "dat = np.array([2, 123, 5, 12, 4])\n",
    "idxs = np.where(dat > 10)[0]\n",
    "print(dat[idxs])"
   ],
   "metadata": {
    "collapsed": false
   }
  },
  {
   "cell_type": "code",
   "execution_count": 25,
   "outputs": [
    {
     "name": "stdout",
     "output_type": "stream",
     "text": [
      "[123  12]\n"
     ]
    }
   ],
   "source": [
    "dat = np.array([2, 123, 5, 12, 4])\n",
    "print(dat[dat > 10])"
   ],
   "metadata": {
    "collapsed": false
   }
  },
  {
   "cell_type": "markdown",
   "source": [
    "# Random"
   ],
   "metadata": {
    "collapsed": false
   }
  },
  {
   "cell_type": "code",
   "execution_count": 26,
   "outputs": [
    {
     "name": "stdout",
     "output_type": "stream",
     "text": [
      "61\n",
      "81\n"
     ]
    }
   ],
   "source": [
    "print(np.random.randint(0, 100))\n",
    "print(np.random.randint(0, 100))"
   ],
   "metadata": {
    "collapsed": false
   }
  },
  {
   "cell_type": "code",
   "execution_count": 27,
   "outputs": [
    {
     "name": "stdout",
     "output_type": "stream",
     "text": [
      "[[ 0.50683344 -1.08013169 -1.6357396 ]\n",
      " [ 1.01409702  2.34950031 -0.15511511]\n",
      " [-0.82921102 -2.84849444  1.471557  ]]\n"
     ]
    }
   ],
   "source": [
    "print(np.random.normal(0, 1, size=(3, 3)))"
   ],
   "metadata": {
    "collapsed": false
   }
  },
  {
   "cell_type": "markdown",
   "source": [
    "# Computation"
   ],
   "metadata": {
    "collapsed": false
   }
  },
  {
   "cell_type": "code",
   "execution_count": 28,
   "outputs": [
    {
     "name": "stdout",
     "output_type": "stream",
     "text": [
      "[2. 2. 2.]\n"
     ]
    }
   ],
   "source": [
    "dat = np.ones(3) + np.ones(3)\n",
    "print(dat)"
   ],
   "metadata": {
    "collapsed": false
   }
  },
  {
   "cell_type": "code",
   "execution_count": 29,
   "outputs": [
    {
     "name": "stdout",
     "output_type": "stream",
     "text": [
      "[ 0  1  4  9 16]\n"
     ]
    }
   ],
   "source": [
    "dat = np.arange(5) * np.arange(5)\n",
    "print(dat)"
   ],
   "metadata": {
    "collapsed": false
   }
  },
  {
   "cell_type": "code",
   "execution_count": 30,
   "outputs": [
    {
     "name": "stdout",
     "output_type": "stream",
     "text": [
      "[ 0  1  4  9 16]\n"
     ]
    }
   ],
   "source": [
    "dat = np.arange(5)**2\n",
    "print(dat)"
   ],
   "metadata": {
    "collapsed": false
   }
  },
  {
   "cell_type": "code",
   "execution_count": 31,
   "outputs": [
    {
     "name": "stdout",
     "output_type": "stream",
     "text": [
      "[ 0  0  2  6 12]\n"
     ]
    }
   ],
   "source": [
    "dat = np.arange(5)**2 - np.arange(5)\n",
    "print(dat)"
   ],
   "metadata": {
    "collapsed": false
   }
  },
  {
   "cell_type": "code",
   "execution_count": 32,
   "outputs": [
    {
     "name": "stdout",
     "output_type": "stream",
     "text": [
      "[1. 1. 1. 1. 1.]\n",
      "[1. 2. 3. 4. 5.]\n"
     ]
    }
   ],
   "source": [
    "dat = np.ones(5)\n",
    "print(dat)\n",
    "\n",
    "dat2 = np.cumsum(dat)\n",
    "print(dat2)"
   ],
   "metadata": {
    "collapsed": false
   }
  },
  {
   "cell_type": "code",
   "execution_count": 33,
   "outputs": [
    {
     "name": "stdout",
     "output_type": "stream",
     "text": [
      "10.0\n"
     ]
    }
   ],
   "source": [
    "dat = np.arange(5) @ np.ones(5)\n",
    "print(dat)"
   ],
   "metadata": {
    "collapsed": false
   }
  },
  {
   "cell_type": "code",
   "execution_count": 34,
   "outputs": [
    {
     "name": "stdout",
     "output_type": "stream",
     "text": [
      "10.0\n"
     ]
    }
   ],
   "source": [
    "dat = np.dot(np.arange(5), np.ones(5))\n",
    "print(dat)"
   ],
   "metadata": {
    "collapsed": false
   }
  },
  {
   "cell_type": "markdown",
   "source": [
    "## Statistics"
   ],
   "metadata": {
    "collapsed": false
   }
  },
  {
   "cell_type": "code",
   "execution_count": 49,
   "outputs": [
    {
     "name": "stdout",
     "output_type": "stream",
     "text": [
      "mu=1.00, std=0.00\n"
     ]
    }
   ],
   "source": [
    "dat = np.ones(5)\n",
    "mu = np.mean(dat)\n",
    "std = np.std(dat)\n",
    "print(f\"mu={mu:.2f}, std={std:.2f}\")"
   ],
   "metadata": {
    "collapsed": false
   }
  },
  {
   "cell_type": "code",
   "execution_count": 50,
   "outputs": [
    {
     "name": "stdout",
     "output_type": "stream",
     "text": [
      "mu=2.00, std=1.41\n"
     ]
    }
   ],
   "source": [
    "dat = np.arange(5)\n",
    "mu = np.mean(dat)\n",
    "std = np.std(dat)\n",
    "print(f\"mu={mu:.2f}, std={std:.2f}\")"
   ],
   "metadata": {
    "collapsed": false
   }
  },
  {
   "cell_type": "code",
   "execution_count": 56,
   "outputs": [
    {
     "name": "stdout",
     "output_type": "stream",
     "text": [
      "mu\n",
      "[0.54492918 0.46201055]\n",
      "std\n",
      "[0.22965026 0.23053451]\n"
     ]
    }
   ],
   "source": [
    "dat = np.random.uniform(0, 1, size=(5, 2))\n",
    "mu = np.mean(dat, axis=0)\n",
    "std = np.std(dat, axis=0)\n",
    "print(\"mu\")\n",
    "print(mu)\n",
    "print(\"std\")\n",
    "print(std)"
   ],
   "metadata": {
    "collapsed": false
   }
  },
  {
   "cell_type": "code",
   "execution_count": 57,
   "outputs": [
    {
     "name": "stdout",
     "output_type": "stream",
     "text": [
      "mu\n",
      "[0.74760488 0.70169699 0.33166571 0.62785862 0.3277738 ]\n",
      "std\n",
      "[0.11639548 0.148946   0.26830968 0.20494784 0.08089591]\n"
     ]
    }
   ],
   "source": [
    "dat = np.random.uniform(0, 1, size=(5, 2))\n",
    "mu = np.mean(dat, axis=1)\n",
    "std = np.std(dat, axis=1)\n",
    "print(\"mu\")\n",
    "print(mu)\n",
    "print(\"std\")\n",
    "print(std)"
   ],
   "metadata": {
    "collapsed": false
   }
  },
  {
   "cell_type": "code",
   "execution_count": 59,
   "outputs": [
    {
     "name": "stdout",
     "output_type": "stream",
     "text": [
      "mu\n",
      "[0.47491941 0.49031476]\n",
      "std\n",
      "[0.29656193 0.25786723]\n"
     ]
    }
   ],
   "source": [
    "dat = np.random.uniform(0, 1, size=(5, 2, 4))\n",
    "mu = np.mean(dat, axis=(0, 2))\n",
    "std = np.std(dat, axis=(0, 2))\n",
    "print(\"mu\")\n",
    "print(mu)\n",
    "print(\"std\")\n",
    "print(std)"
   ],
   "metadata": {
    "collapsed": false
   }
  },
  {
   "cell_type": "code",
   "execution_count": null,
   "outputs": [],
   "source": [],
   "metadata": {
    "collapsed": false
   }
  }
 ],
 "metadata": {
  "kernelspec": {
   "display_name": "Python 3",
   "language": "python",
   "name": "python3"
  },
  "language_info": {
   "codemirror_mode": {
    "name": "ipython",
    "version": 2
   },
   "file_extension": ".py",
   "mimetype": "text/x-python",
   "name": "python",
   "nbconvert_exporter": "python",
   "pygments_lexer": "ipython2",
   "version": "2.7.6"
  }
 },
 "nbformat": 4,
 "nbformat_minor": 0
}
