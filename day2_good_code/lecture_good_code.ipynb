{
 "cells": [
  {
   "cell_type": "markdown",
   "metadata": {},
   "source": [
    "# Lecture Good Code\n",
    "\n",
    "- Language basics (syntax, data types, ...) \n",
    "- Good coding practice "
   ]
  },
  {
   "cell_type": "markdown",
   "metadata": {},
   "source": [
    "## Magic\n",
    "\n",
    "- with `%` [magic commands](https://ipython.readthedocs.io/en/stable/interactive/magics.html) provided by iPython (which is running Jupyter)\n",
    "- with `!` execute a terminal/shell command   \n",
    "  (e.g., useful to install packages that are missing)"
   ]
  },
  {
   "cell_type": "code",
   "execution_count": null,
   "metadata": {},
   "outputs": [],
   "source": [
    "%lsmagic"
   ]
  },
  {
   "cell_type": "code",
   "execution_count": null,
   "metadata": {},
   "outputs": [],
   "source": [
    "!dir"
   ]
  },
  {
   "cell_type": "code",
   "execution_count": null,
   "metadata": {},
   "outputs": [],
   "source": [
    "!pip install numpy"
   ]
  },
  {
   "cell_type": "code",
   "execution_count": null,
   "metadata": {},
   "outputs": [],
   "source": [
    "import serial"
   ]
  },
  {
   "cell_type": "code",
   "execution_count": null,
   "metadata": {},
   "outputs": [],
   "source": [
    "!pip install pyserial"
   ]
  },
  {
   "cell_type": "markdown",
   "metadata": {},
   "source": [
    "## Interacting with the Operating System\n",
    "\n",
    "The `os` module provides a portable way of using operating system dependent functionality.  \n",
    "The `sys`module provides access to some variables used or maintained by the interpreter and to functions that interact strongly with the interpreter. It is always available.  \n",
    "`platform` provides access to underlying platform’s identifying data."
   ]
  },
  {
   "cell_type": "code",
   "execution_count": null,
   "metadata": {},
   "outputs": [],
   "source": [
    "import os\n",
    "os.getcwd(), os.name"
   ]
  },
  {
   "cell_type": "code",
   "execution_count": null,
   "metadata": {},
   "outputs": [],
   "source": [
    "p = os.getcwd()\n",
    "os.path.basename(p)"
   ]
  },
  {
   "cell_type": "code",
   "execution_count": null,
   "metadata": {},
   "outputs": [],
   "source": [
    "p = os.getcwd() +\"\\\\exercise_1\"\n",
    "os.path.exists(p), os.path.isfile(p)"
   ]
  },
  {
   "cell_type": "code",
   "execution_count": null,
   "metadata": {},
   "outputs": [],
   "source": [
    "import sys\n",
    "sys.platform "
   ]
  },
  {
   "cell_type": "code",
   "execution_count": null,
   "metadata": {},
   "outputs": [],
   "source": [
    "import platform\n",
    "platform.system() +\" \" +platform.release()"
   ]
  },
  {
   "cell_type": "markdown",
   "metadata": {},
   "source": [
    "## Strings\n"
   ]
  },
  {
   "cell_type": "code",
   "execution_count": null,
   "metadata": {},
   "outputs": [],
   "source": [
    "s1 = \"Hello\"\n",
    "s2 = \"World\"\n",
    "s3 = s1 +\" \" +s2\n",
    "print(s3)\n",
    "print(len(s3)) "
   ]
  },
  {
   "cell_type": "code",
   "execution_count": null,
   "metadata": {},
   "outputs": [],
   "source": [
    "\"ello\" in s3"
   ]
  },
  {
   "cell_type": "code",
   "execution_count": null,
   "metadata": {},
   "outputs": [],
   "source": [
    "s3.upper(), s3.lower()"
   ]
  },
  {
   "cell_type": "code",
   "execution_count": null,
   "metadata": {},
   "outputs": [],
   "source": [
    "import math \n",
    "a = [\"World\", 1, math.pi]\n",
    "\n",
    "for element in a:\n",
    "    print(element)"
   ]
  },
  {
   "cell_type": "markdown",
   "metadata": {},
   "source": [
    "## Formatting numbers and stuff\n",
    "\n",
    "- `format()` function\n",
    "- `f-string`\n",
    "- Strings can be enclosed by `\"\"` or `''`"
   ]
  },
  {
   "cell_type": "code",
   "execution_count": null,
   "metadata": {},
   "outputs": [],
   "source": [
    "print(\"pi rounded to 3 digits is {0:.3f}\".format(math.pi)) "
   ]
  },
  {
   "cell_type": "code",
   "execution_count": null,
   "metadata": {},
   "outputs": [],
   "source": [
    "a = 12\n",
    "b = 256\n",
    "print(\"{0} is {1} than {2}\".format(a, \"larger\" if a>b else \"smaller\", b))"
   ]
  },
  {
   "cell_type": "code",
   "execution_count": null,
   "metadata": {},
   "outputs": [],
   "source": [
    "s = \"{0} is {1} than {2}\".format(a, \"larger\" if a>b else \"smaller\", b)\n",
    "print(s)"
   ]
  },
  {
   "cell_type": "code",
   "execution_count": null,
   "metadata": {},
   "outputs": [],
   "source": [
    "print(f\"{a} is {'larger' if a>b else 'smaller'} than {b}\")"
   ]
  },
  {
   "cell_type": "markdown",
   "metadata": {},
   "source": [
    "## `main` function\n"
   ]
  },
  {
   "cell_type": "markdown",
   "metadata": {},
   "source": [
    "See `my_main_1.py` for basic structure and handing arguments."
   ]
  },
  {
   "cell_type": "code",
   "execution_count": null,
   "metadata": {},
   "outputs": [],
   "source": [
    "!python .\\my_main_1.py Thomas"
   ]
  },
  {
   "cell_type": "markdown",
   "metadata": {},
   "source": [
    "## Starting python programs\n",
    "\n",
    "- via magic (`%run`)\n",
    "- via a shell command (`!python`)\n",
    "- in a terminal (`python`)\n",
    "- ..."
   ]
  },
  {
   "cell_type": "code",
   "execution_count": null,
   "metadata": {},
   "outputs": [],
   "source": [
    "%run my_main_1.py Thomas"
   ]
  },
  {
   "cell_type": "code",
   "execution_count": null,
   "metadata": {},
   "outputs": [],
   "source": [
    "%run my_main_1.py "
   ]
  },
  {
   "cell_type": "markdown",
   "metadata": {},
   "source": [
    "## Exception handling\n",
    "\n",
    "Even if a statement or expression is syntactically correct, it may cause an error when an attempt is made to execute it. Errors detected during execution are called exceptions and are not unconditionally fatal.\n",
    "\n",
    "- Handling errors in the code in a graceful way\n",
    "- `try-except`\n",
    "- `try-finally`\n",
    "- Raising exceptions\n"
   ]
  },
  {
   "cell_type": "markdown",
   "metadata": {},
   "source": [
    "See `my_main_2.py` for basic error checking.\n"
   ]
  },
  {
   "cell_type": "code",
   "execution_count": 1,
   "metadata": {},
   "outputs": [
    {
     "name": "stdout",
     "output_type": "stream",
     "text": [
      "Error: No argument\n",
      "Program ended.\n"
     ]
    }
   ],
   "source": [
    "%run my_main_2.py"
   ]
  },
  {
   "cell_type": "markdown",
   "metadata": {},
   "source": [
    "See `my_main_3.py` for exception handling.\n"
   ]
  },
  {
   "cell_type": "code",
   "execution_count": 3,
   "metadata": {},
   "outputs": [
    {
     "name": "stdout",
     "output_type": "stream",
     "text": [
      "Error: No argument\n",
      "Program ended.\n"
     ]
    }
   ],
   "source": [
    "%run my_main_3.py"
   ]
  },
  {
   "cell_type": "code",
   "execution_count": 13,
   "metadata": {},
   "outputs": [
    {
     "name": "stdout",
     "output_type": "stream",
     "text": [
      "Hello Hubert!\n",
      "val1/val2=1.333\n",
      "Done.\n",
      "Program ended.\n"
     ]
    }
   ],
   "source": [
    "%run my_main_4.py Hubert 4 3"
   ]
  },
  {
   "cell_type": "code",
   "execution_count": 5,
   "metadata": {},
   "outputs": [
    {
     "name": "stdout",
     "output_type": "stream",
     "text": [
      "Hello Hubert!\n"
     ]
    },
    {
     "ename": "ZeroDivisionError",
     "evalue": "float division by zero",
     "output_type": "error",
     "traceback": [
      "\u001b[1;31m---------------------------------------------------------------------------\u001b[0m",
      "\u001b[1;31mZeroDivisionError\u001b[0m                         Traceback (most recent call last)",
      "File \u001b[1;32m~\\Dropbox\\__GIT\\python_course\\day2_good_code\\my_main_4.py:25\u001b[0m\n\u001b[0;32m     22\u001b[0m     \u001b[38;5;28mprint\u001b[39m(\u001b[38;5;124m\"\u001b[39m\u001b[38;5;124mProgram ended.\u001b[39m\u001b[38;5;124m\"\u001b[39m)  \n\u001b[0;32m     24\u001b[0m \u001b[38;5;28;01mif\u001b[39;00m \u001b[38;5;18m__name__\u001b[39m \u001b[38;5;241m==\u001b[39m \u001b[38;5;124m\"\u001b[39m\u001b[38;5;124m__main__\u001b[39m\u001b[38;5;124m\"\u001b[39m:\n\u001b[1;32m---> 25\u001b[0m     \u001b[43mmain\u001b[49m\u001b[43m(\u001b[49m\u001b[43m)\u001b[49m\n",
      "File \u001b[1;32m~\\Dropbox\\__GIT\\python_course\\day2_good_code\\my_main_4.py:15\u001b[0m, in \u001b[0;36mmain\u001b[1;34m()\u001b[0m\n\u001b[0;32m     13\u001b[0m val1 \u001b[38;5;241m=\u001b[39m \u001b[38;5;28mfloat\u001b[39m(sys\u001b[38;5;241m.\u001b[39margv[\u001b[38;5;241m2\u001b[39m])\n\u001b[0;32m     14\u001b[0m val2 \u001b[38;5;241m=\u001b[39m \u001b[38;5;28mfloat\u001b[39m(sys\u001b[38;5;241m.\u001b[39margv[\u001b[38;5;241m3\u001b[39m])\n\u001b[1;32m---> 15\u001b[0m res \u001b[38;5;241m=\u001b[39m \u001b[43mval1\u001b[49m\u001b[43m \u001b[49m\u001b[38;5;241;43m/\u001b[39;49m\u001b[43mval2\u001b[49m\n\u001b[0;32m     16\u001b[0m \u001b[38;5;28mprint\u001b[39m(\u001b[38;5;124mf\u001b[39m\u001b[38;5;124m\"\u001b[39m\u001b[38;5;124mval1/val2=\u001b[39m\u001b[38;5;132;01m{\u001b[39;00mres\u001b[38;5;132;01m:\u001b[39;00m\u001b[38;5;124m.3f\u001b[39m\u001b[38;5;132;01m}\u001b[39;00m\u001b[38;5;124m\"\u001b[39m)\n\u001b[0;32m     18\u001b[0m \u001b[38;5;28mprint\u001b[39m(\u001b[38;5;124m\"\u001b[39m\u001b[38;5;124mDone.\u001b[39m\u001b[38;5;124m\"\u001b[39m)\n",
      "\u001b[1;31mZeroDivisionError\u001b[0m: float division by zero"
     ]
    }
   ],
   "source": [
    "%run my_main_4.py Hubert 4 0"
   ]
  },
  {
   "cell_type": "code",
   "execution_count": 15,
   "metadata": {},
   "outputs": [
    {
     "name": "stdout",
     "output_type": "stream",
     "text": [
      "['my_main_5.py', 'Hubert', '4']\n",
      "Hello Hubert!\n",
      "Error: Too few arguments\n",
      "Program ended.\n"
     ]
    }
   ],
   "source": [
    "%run my_main_5.py Hubert 4 "
   ]
  },
  {
   "cell_type": "code",
   "execution_count": 14,
   "metadata": {},
   "outputs": [
    {
     "name": "stdout",
     "output_type": "stream",
     "text": [
      "Hello Hubert!\n",
      "val1/val2=2.000\n"
     ]
    },
    {
     "ename": "BaseException",
     "evalue": "Somehow I expected the file to be there ... ???",
     "output_type": "error",
     "traceback": [
      "\u001b[1;31m---------------------------------------------------------------------------\u001b[0m",
      "\u001b[1;31mFileNotFoundError\u001b[0m                         Traceback (most recent call last)",
      "File \u001b[1;32m~\\Dropbox\\__GIT\\python_course\\day2_good_code\\my_main_6.py:21\u001b[0m, in \u001b[0;36mmain\u001b[1;34m()\u001b[0m\n\u001b[0;32m     20\u001b[0m \u001b[38;5;28;01mtry\u001b[39;00m:\n\u001b[1;32m---> 21\u001b[0m     f \u001b[38;5;241m=\u001b[39m \u001b[38;5;28;43mopen\u001b[39;49m\u001b[43m(\u001b[49m\u001b[43mf_name\u001b[49m\u001b[43m)\u001b[49m\n\u001b[0;32m     22\u001b[0m     \u001b[38;5;28mprint\u001b[39m(f\u001b[38;5;241m.\u001b[39mreadline())\n",
      "\u001b[1;31mFileNotFoundError\u001b[0m: [Errno 2] No such file or directory: 'nowhere.txt'",
      "\nDuring handling of the above exception, another exception occurred:\n",
      "\u001b[1;31mBaseException\u001b[0m                             Traceback (most recent call last)",
      "File \u001b[1;32m~\\Dropbox\\__GIT\\python_course\\day2_good_code\\my_main_6.py:37\u001b[0m\n\u001b[0;32m     34\u001b[0m     \u001b[38;5;28mprint\u001b[39m(\u001b[38;5;124m\"\u001b[39m\u001b[38;5;124mProgram ended.\u001b[39m\u001b[38;5;124m\"\u001b[39m)  \n\u001b[0;32m     36\u001b[0m \u001b[38;5;28;01mif\u001b[39;00m \u001b[38;5;18m__name__\u001b[39m \u001b[38;5;241m==\u001b[39m \u001b[38;5;124m\"\u001b[39m\u001b[38;5;124m__main__\u001b[39m\u001b[38;5;124m\"\u001b[39m:\n\u001b[1;32m---> 37\u001b[0m     \u001b[43mmain\u001b[49m\u001b[43m(\u001b[49m\u001b[43m)\u001b[49m\n",
      "File \u001b[1;32m~\\Dropbox\\__GIT\\python_course\\day2_good_code\\my_main_6.py:24\u001b[0m, in \u001b[0;36mmain\u001b[1;34m()\u001b[0m\n\u001b[0;32m     22\u001b[0m     \u001b[38;5;28mprint\u001b[39m(f\u001b[38;5;241m.\u001b[39mreadline())\n\u001b[0;32m     23\u001b[0m \u001b[38;5;28;01mexcept\u001b[39;00m \u001b[38;5;167;01mOSError\u001b[39;00m:\n\u001b[1;32m---> 24\u001b[0m     \u001b[38;5;28;01mraise\u001b[39;00m MyIssue\n\u001b[0;32m     25\u001b[0m \u001b[38;5;28;01melse\u001b[39;00m:   \n\u001b[0;32m     26\u001b[0m     f\u001b[38;5;241m.\u001b[39mclose\n",
      "\u001b[1;31mBaseException\u001b[0m: Somehow I expected the file to be there ... ???"
     ]
    }
   ],
   "source": [
    "%run my_main_6.py Hubert 4 2"
   ]
  },
  {
   "cell_type": "code",
   "execution_count": null,
   "metadata": {},
   "outputs": [],
   "source": [
    "%run my_main_6.py Hubert 4 3"
   ]
  },
  {
   "cell_type": "code",
   "execution_count": 9,
   "metadata": {},
   "outputs": [
    {
     "ename": "AttributeError",
     "evalue": "type object 'Exception' has no attribute 'Execptions'",
     "output_type": "error",
     "traceback": [
      "\u001b[1;31m---------------------------------------------------------------------------\u001b[0m",
      "\u001b[1;31mAttributeError\u001b[0m                            Traceback (most recent call last)",
      "Cell \u001b[1;32mIn[9], line 1\u001b[0m\n\u001b[1;32m----> 1\u001b[0m \u001b[38;5;28mdir\u001b[39m(\u001b[38;5;167;43;01mException\u001b[39;49;00m\u001b[38;5;241;43m.\u001b[39;49m\u001b[43mExecptions\u001b[49m)\n",
      "\u001b[1;31mAttributeError\u001b[0m: type object 'Exception' has no attribute 'Execptions'"
     ]
    }
   ],
   "source": []
  },
  {
   "cell_type": "markdown",
   "metadata": {},
   "source": [
    "A few more examples ..."
   ]
  },
  {
   "cell_type": "code",
   "execution_count": 16,
   "metadata": {},
   "outputs": [],
   "source": [
    "def myDivide(v1, v2):\n",
    "    return v1/v2"
   ]
  },
  {
   "cell_type": "code",
   "execution_count": 17,
   "metadata": {},
   "outputs": [
    {
     "name": "stdout",
     "output_type": "stream",
     "text": [
      "4.0\n"
     ]
    },
    {
     "ename": "ZeroDivisionError",
     "evalue": "division by zero",
     "output_type": "error",
     "traceback": [
      "\u001b[1;31m---------------------------------------------------------------------------\u001b[0m",
      "\u001b[1;31mZeroDivisionError\u001b[0m                         Traceback (most recent call last)",
      "Cell \u001b[1;32mIn[17], line 2\u001b[0m\n\u001b[0;32m      1\u001b[0m \u001b[38;5;28mprint\u001b[39m(myDivide(\u001b[38;5;241m12\u001b[39m, \u001b[38;5;241m3\u001b[39m))\n\u001b[1;32m----> 2\u001b[0m \u001b[38;5;28mprint\u001b[39m(\u001b[43mmyDivide\u001b[49m\u001b[43m(\u001b[49m\u001b[38;5;241;43m12\u001b[39;49m\u001b[43m,\u001b[49m\u001b[43m \u001b[49m\u001b[38;5;241;43m0\u001b[39;49m\u001b[43m)\u001b[49m)\n",
      "Cell \u001b[1;32mIn[16], line 2\u001b[0m, in \u001b[0;36mmyDivide\u001b[1;34m(v1, v2)\u001b[0m\n\u001b[0;32m      1\u001b[0m \u001b[38;5;28;01mdef\u001b[39;00m \u001b[38;5;21mmyDivide\u001b[39m(v1, v2):\n\u001b[1;32m----> 2\u001b[0m     \u001b[38;5;28;01mreturn\u001b[39;00m \u001b[43mv1\u001b[49m\u001b[38;5;241;43m/\u001b[39;49m\u001b[43mv2\u001b[49m\n",
      "\u001b[1;31mZeroDivisionError\u001b[0m: division by zero"
     ]
    }
   ],
   "source": [
    "print(myDivide(12, 3))\n",
    "print(myDivide(12, 0))"
   ]
  },
  {
   "cell_type": "markdown",
   "metadata": {},
   "source": [
    "Handling an exception (an error) using a try-except contruct:"
   ]
  },
  {
   "cell_type": "code",
   "execution_count": 18,
   "metadata": {},
   "outputs": [],
   "source": [
    "def myDivide(v1, v2):\n",
    "    try:\n",
    "        return v1/v2\n",
    "    except ZeroDivisionError:\n",
    "        print(\"Second argument must not be zero\")\n",
    "        return None"
   ]
  },
  {
   "cell_type": "code",
   "execution_count": 19,
   "metadata": {},
   "outputs": [
    {
     "name": "stdout",
     "output_type": "stream",
     "text": [
      "4.0\n",
      "Second argument must not be zero\n",
      "None\n"
     ]
    },
    {
     "ename": "TypeError",
     "evalue": "unsupported operand type(s) for /: 'int' and 'NoneType'",
     "output_type": "error",
     "traceback": [
      "\u001b[1;31m---------------------------------------------------------------------------\u001b[0m",
      "\u001b[1;31mTypeError\u001b[0m                                 Traceback (most recent call last)",
      "Cell \u001b[1;32mIn[19], line 3\u001b[0m\n\u001b[0;32m      1\u001b[0m \u001b[38;5;28mprint\u001b[39m(myDivide(\u001b[38;5;241m12\u001b[39m, \u001b[38;5;241m3\u001b[39m))\n\u001b[0;32m      2\u001b[0m \u001b[38;5;28mprint\u001b[39m(myDivide(\u001b[38;5;241m12\u001b[39m, \u001b[38;5;241m0\u001b[39m))\n\u001b[1;32m----> 3\u001b[0m \u001b[38;5;28mprint\u001b[39m(\u001b[43mmyDivide\u001b[49m\u001b[43m(\u001b[49m\u001b[38;5;241;43m12\u001b[39;49m\u001b[43m,\u001b[49m\u001b[43m \u001b[49m\u001b[38;5;28;43;01mNone\u001b[39;49;00m\u001b[43m)\u001b[49m)\n",
      "Cell \u001b[1;32mIn[18], line 3\u001b[0m, in \u001b[0;36mmyDivide\u001b[1;34m(v1, v2)\u001b[0m\n\u001b[0;32m      1\u001b[0m \u001b[38;5;28;01mdef\u001b[39;00m \u001b[38;5;21mmyDivide\u001b[39m(v1, v2):\n\u001b[0;32m      2\u001b[0m     \u001b[38;5;28;01mtry\u001b[39;00m:\n\u001b[1;32m----> 3\u001b[0m         \u001b[38;5;28;01mreturn\u001b[39;00m \u001b[43mv1\u001b[49m\u001b[38;5;241;43m/\u001b[39;49m\u001b[43mv2\u001b[49m\n\u001b[0;32m      4\u001b[0m     \u001b[38;5;28;01mexcept\u001b[39;00m \u001b[38;5;167;01mZeroDivisionError\u001b[39;00m:\n\u001b[0;32m      5\u001b[0m         \u001b[38;5;28mprint\u001b[39m(\u001b[38;5;124m\"\u001b[39m\u001b[38;5;124mSecond argument must not be zero\u001b[39m\u001b[38;5;124m\"\u001b[39m)\n",
      "\u001b[1;31mTypeError\u001b[0m: unsupported operand type(s) for /: 'int' and 'NoneType'"
     ]
    }
   ],
   "source": [
    "print(myDivide(12, 3))\n",
    "print(myDivide(12, 0))\n",
    "print(myDivide(12, None))"
   ]
  },
  {
   "cell_type": "markdown",
   "metadata": {},
   "source": [
    "Multiple exceptions can be caught (handled):"
   ]
  },
  {
   "cell_type": "code",
   "execution_count": 20,
   "metadata": {},
   "outputs": [],
   "source": [
    "def myDivide(v1, v2):\n",
    "    try:\n",
    "        return v1/v2\n",
    "    except ZeroDivisionError:\n",
    "        print(\"Second argument must not be zero\")\n",
    "    except TypeError:    \n",
    "        print(\"Arguments must be numerical\")\n",
    "    return None"
   ]
  },
  {
   "cell_type": "code",
   "execution_count": 21,
   "metadata": {},
   "outputs": [
    {
     "name": "stdout",
     "output_type": "stream",
     "text": [
      "4.0\n",
      "Second argument must not be zero\n",
      "None\n",
      "Arguments must be numerical\n",
      "None\n"
     ]
    }
   ],
   "source": [
    "print(myDivide(12, 3))\n",
    "print(myDivide(12, 0))\n",
    "print(myDivide(12, [1,2]))"
   ]
  },
  {
   "cell_type": "code",
   "execution_count": 22,
   "metadata": {},
   "outputs": [],
   "source": [
    "def myDivide(v1, v2):\n",
    "    try:\n",
    "        return v1/v2\n",
    "    except ZeroDivisionError:\n",
    "        print(\"Second argument must not be zero\")\n",
    "    #except TypeError:    \n",
    "    #   print(\"Arguments must be numerical\")\n",
    "    except:\n",
    "        print(\"Error but not sure what the hack happened\")\n",
    "    return None"
   ]
  },
  {
   "cell_type": "code",
   "execution_count": 23,
   "metadata": {},
   "outputs": [
    {
     "name": "stdout",
     "output_type": "stream",
     "text": [
      "4.0\n",
      "Second argument must not be zero\n",
      "None\n",
      "Error but not sure what the hack happened\n",
      "None\n"
     ]
    }
   ],
   "source": [
    "print(myDivide(12, 3))\n",
    "print(myDivide(12, 0))\n",
    "print(myDivide(12, [1,2]))"
   ]
  },
  {
   "cell_type": "markdown",
   "metadata": {},
   "source": [
    "## Classes (Object oriented programming)\n",
    "A simple class with the typical \"ingredients\"."
   ]
  },
  {
   "cell_type": "code",
   "execution_count": null,
   "metadata": {},
   "outputs": [],
   "source": [
    "class Cell():\n",
    "    cellID = None\n",
    "    \n",
    "    def getCellID(self):\n",
    "        return self.cellID\n",
    "    \n",
    "    def setCellID(self, newID):\n",
    "        if newID > 0:\n",
    "            self.cellID = newID\n",
    "        else:\n",
    "            print(\"Cell IDs cannot be <= 0\")        "
   ]
  },
  {
   "cell_type": "code",
   "execution_count": null,
   "metadata": {},
   "outputs": [],
   "source": [
    "c = Cell()\n",
    "print(c)\n",
    "print(c.cellID)\n",
    "\n",
    "c.cellID = 123\n",
    "print(c.cellID)\n",
    "print(c.getCellID())\n",
    "\n",
    "c.setCellID(-1)\n",
    "print(c.getCellID())\n",
    "\n",
    "c.setCellID(345)\n",
    "print(c.getCellID())"
   ]
  },
  {
   "cell_type": "code",
   "execution_count": null,
   "metadata": {},
   "outputs": [],
   "source": [
    "c1 = Cell()\n",
    "c2 = Cell()\n",
    "\n",
    "print(c1.cellID, c2.cellID)\n",
    "c1.cellID = 456\n",
    "\n",
    "print(c1.cellID, c2.cellID)"
   ]
  },
  {
   "cell_type": "markdown",
   "metadata": {},
   "source": [
    "Now we overwrite methods that are inherited by ``object``, for instance ``__init__``, which is automatically called when a class is instantiated (=an object of that class is created). Likewise, ``__str__`` provides a textual description of the object."
   ]
  },
  {
   "cell_type": "code",
   "execution_count": null,
   "metadata": {},
   "outputs": [],
   "source": [
    "class Cell(object):\n",
    "    def __init__(self, newID):\n",
    "        self.cellID = newID\n",
    "    \n",
    "    def __str__(self):\n",
    "        return \"Cell with ID={0:d}\".format(self.cellID)\n",
    "    \n",
    "    def getCellID(self):\n",
    "        return self.cellID\n",
    "    \n",
    "    def changeCellID(self, newID):\n",
    "        if newID != self.cellID:\n",
    "            self.cellID = newID\n",
    "        else:\n",
    "            print(\"Cell ID is the same as before\")  \n",
    "        return self.cellID    "
   ]
  },
  {
   "cell_type": "code",
   "execution_count": null,
   "metadata": {},
   "outputs": [],
   "source": [
    "c = Cell(123)\n",
    "print(c)\n",
    "print(c.cellID)\n",
    "\n",
    "print(c.changeCellID(123))\n",
    "print(c.changeCellID(345))"
   ]
  },
  {
   "cell_type": "markdown",
   "metadata": {},
   "source": [
    "Now we define a second object that encapsulates some sort of activity trace."
   ]
  },
  {
   "cell_type": "code",
   "execution_count": null,
   "metadata": {},
   "outputs": [],
   "source": [
    "import numpy as np"
   ]
  },
  {
   "cell_type": "code",
   "execution_count": null,
   "metadata": {},
   "outputs": [],
   "source": [
    "class Trace(object):\n",
    "    def __init__(self):\n",
    "        self.data = np.array([])\n",
    "        self.dt_s = 1.0\n",
    "        self.name = \"n/a\"\n",
    "        \n",
    "    def __str__(self):\n",
    "        return \"Trace '{0}', n={1:d}, dt={2} s\".format(self.name, len(self.data), self.dt_s)\n",
    "        \n",
    "    def calcMean(self):\n",
    "        print(\"Trace.calcMean\")\n",
    "        if len(self.data) == 0:\n",
    "            return None\n",
    "        else:\n",
    "            return self.data.mean()"
   ]
  },
  {
   "cell_type": "code",
   "execution_count": null,
   "metadata": {},
   "outputs": [],
   "source": [
    "trace1 = Trace()\n",
    "trace1.data = np.array([1,2,5,4,6,7,4,3,3,5,6,7])\n",
    "trace1.name = \"chirp response\"\n",
    "trace1.dt_s = 0.1\n",
    "print(trace1)\n",
    "\n",
    "print(trace1.calcMean())"
   ]
  },
  {
   "cell_type": "markdown",
   "metadata": {},
   "source": [
    "We want to make a special version of the Trace class, e.g. one for calcium responses"
   ]
  },
  {
   "cell_type": "code",
   "execution_count": null,
   "metadata": {},
   "outputs": [],
   "source": [
    "class CalciumTrace(Trace):\n",
    "    def calcNormalize(self):\n",
    "        if len(self.data) == 0:\n",
    "            return False\n",
    "        else:\n",
    "            self.data -= self.data.min()\n",
    "            self.data /= self.data.max();\n",
    "            return True"
   ]
  },
  {
   "cell_type": "code",
   "execution_count": null,
   "metadata": {},
   "outputs": [],
   "source": [
    "trace2 = CalciumTrace()\n",
    "trace2.data = np.array(np.random.random_sample(20) *100)\n",
    "trace2.name = \"chirp response\"\n",
    "trace2.dt_s = 0.1\n",
    "print(trace1)\n",
    "print(trace2)\n",
    "\n",
    "print(trace2.data)\n",
    "print(trace2.calcMean())\n",
    "print(trace2.calcNormalize())\n",
    "print(trace2.data)\n",
    "print(trace2.calcMean())"
   ]
  },
  {
   "cell_type": "code",
   "execution_count": null,
   "metadata": {},
   "outputs": [],
   "source": [
    "class CalciumTrace(Trace):\n",
    "    def __init__(self):\n",
    "        super().__init__()\n",
    "        self.nameDye = \"n/a\"\n",
    "    \n",
    "    def __str__(self):\n",
    "        return \"Calcium trace '{0}' ({1}), n={2:d}, dt={3} s\".format(self.nameDye, self.name, len(self.data), self.dt_s)\n",
    "    \n",
    "    def calcNormalize(self):\n",
    "        if len(self.data) == 0:\n",
    "            return False\n",
    "        else:\n",
    "            self.data -= self.data.min()\n",
    "            self.data /= self.data.max();\n",
    "            return True\n",
    "        \n",
    "    def calcMean(self):\n",
    "        print(\"CalciumTrace.calcMean\")\n",
    "        if len(self.data) == 0:\n",
    "            return None\n",
    "        else:\n",
    "            return self.data.mean()        "
   ]
  },
  {
   "cell_type": "code",
   "execution_count": null,
   "metadata": {},
   "outputs": [],
   "source": [
    "trace2 = CalciumTrace()\n",
    "trace2.data = np.array(np.random.random_sample(20) *100)\n",
    "trace2.name = \"chirp response\"\n",
    "trace2.dt_s = 0.1\n",
    "trace2.nameDye = \"OGB1\"\n",
    "print(trace1)\n",
    "print(trace2)\n",
    "\n",
    "print(trace1.data)\n",
    "print(trace1.calcMean())\n",
    "\n",
    "print(trace2.data)\n",
    "print(trace2.calcMean())\n",
    "print(trace2.calcNormalize())\n",
    "print(trace2.data)\n",
    "print(trace2.calcMean())"
   ]
  },
  {
   "cell_type": "code",
   "execution_count": null,
   "metadata": {},
   "outputs": [],
   "source": [
    "class CalciumTrace(Trace):\n",
    "    def __init__(self):\n",
    "        super().__init__()\n",
    "        self.nameDye = \"n/a\"\n",
    "    \n",
    "    def __str__(self):\n",
    "        return \"Calcium trace '{0}' ({1}), n={2:d}, dt={3} s\".format(self.nameDye, self.name, len(self.data), self.dt_s)\n",
    "    \n",
    "    def calcNormalize(self):\n",
    "        if len(self.data) == 0:\n",
    "            return False\n",
    "        else:\n",
    "            self.data -= self.data.min()\n",
    "            self.data /= self.data.max();\n",
    "            return True\n",
    "        \n",
    "    def calcMean(self):\n",
    "        print(\"CalciumTrace.calcMean\")\n",
    "        if len(self.data) == 0:\n",
    "            return None\n",
    "        else:\n",
    "            return self.data.mean()        \n",
    "\n",
    "    def calcMeanOld(self):\n",
    "        return super().calcMean()"
   ]
  },
  {
   "cell_type": "code",
   "execution_count": null,
   "metadata": {},
   "outputs": [],
   "source": [
    "trace2 = CalciumTrace()\n",
    "trace2.data = np.array(np.random.random_sample(20) *100)\n",
    "trace2.name = \"chirp response\"\n",
    "trace2.dt_s = 0.1\n",
    "trace2.nameDye = \"OGB1\"\n",
    "\n",
    "print(trace2.calcMean())\n",
    "print(trace2.calcMeanOld())"
   ]
  },
  {
   "cell_type": "markdown",
   "metadata": {},
   "source": [
    "## Own exceptions (and first useful classes)\n",
    "\n",
    "Also own exceptions can be defined and handled in the same way as general python exceptions. Here, we make use of classes: First to define our own namespace for errors, and second, because Exception is a class and we want to derive our new version."
   ]
  },
  {
   "cell_type": "code",
   "execution_count": null,
   "metadata": {},
   "outputs": [],
   "source": [
    "class MyErrorCodes:\n",
    "    OK                = 0\n",
    "    InvalidArgument   = 1\n",
    "    DivisorGreater10  = 2\n",
    "    Unknown           = 3\n",
    "    \n",
    "MyErrorString = dict([\n",
    "    (MyErrorCodes.OK,               \"ok\"),\n",
    "    (MyErrorCodes.InvalidArgument,  \"Wrong argument\"),\n",
    "    (MyErrorCodes.DivisorGreater10, \"Divisor must be <= 10\"),\n",
    "    (MyErrorCodes.Unknown,          \"Error but not sure what the hack happened\")])"
   ]
  },
  {
   "cell_type": "code",
   "execution_count": null,
   "metadata": {},
   "outputs": [],
   "source": [
    "errc = MyErrorCodes.Unknown\n",
    "print(errc, MyErrorString[errc])"
   ]
  },
  {
   "cell_type": "code",
   "execution_count": null,
   "metadata": {},
   "outputs": [],
   "source": [
    "class MyException(Exception):\n",
    "    def __init__(self, value):\n",
    "        self.value = value\n",
    "        self.str   = MyErrorString[value]\n",
    "    def __str__(self):\n",
    "        return self.str"
   ]
  },
  {
   "cell_type": "code",
   "execution_count": null,
   "metadata": {},
   "outputs": [],
   "source": [
    "def myDivide(v1, v2):\n",
    "    try:\n",
    "        if v2 > 10:\n",
    "            raise MyException(MyErrorCodes.DivisorGreater10)\n",
    "        return v1/v2\n",
    "    \n",
    "    except (ZeroDivisionError, TypeError):\n",
    "        print(MyErrorString[MyErrorCodes.InvalidArgument])\n",
    "    except MyException as err:\n",
    "        print(err)\n",
    "    except:\n",
    "        print(MyErrorString[MyErrorCodes.Unknown])\n",
    "    return None"
   ]
  },
  {
   "cell_type": "code",
   "execution_count": null,
   "metadata": {},
   "outputs": [],
   "source": [
    "print(myDivide(12, 3))\n",
    "print(myDivide(12, 0))\n",
    "print(myDivide(12, [1,2]))\n",
    "print(myDivide(12, 11))"
   ]
  },
  {
   "cell_type": "markdown",
   "metadata": {},
   "source": [
    "## Good programming praxis\n",
    "\n",
    "- number of code lines ~ number of comments \n",
    "- Systematic naming of functions and variables (`my_var`, `file_name`, `get_prime_number`)  \n",
    "- Check [style recommendations](https://docs.python-guide.org/writing/style/)\n",
    "- Avoid `global` variables"
   ]
  },
  {
   "cell_type": "code",
   "execution_count": null,
   "metadata": {},
   "outputs": [],
   "source": [
    "shiny_new_global_var = 123"
   ]
  },
  {
   "cell_type": "code",
   "execution_count": null,
   "metadata": {},
   "outputs": [],
   "source": [
    "def do_something():\n",
    "    print(shiny_new_global_var)"
   ]
  },
  {
   "cell_type": "code",
   "execution_count": null,
   "metadata": {},
   "outputs": [],
   "source": [
    "do_something()"
   ]
  },
  {
   "cell_type": "code",
   "execution_count": null,
   "metadata": {},
   "outputs": [],
   "source": []
  }
 ],
 "metadata": {
  "kernelspec": {
   "display_name": "Python 3 (ipykernel)",
   "language": "python",
   "name": "python3"
  },
  "language_info": {
   "codemirror_mode": {
    "name": "ipython",
    "version": 3
   },
   "file_extension": ".py",
   "mimetype": "text/x-python",
   "name": "python",
   "nbconvert_exporter": "python",
   "pygments_lexer": "ipython3",
   "version": "3.9.16"
  }
 },
 "nbformat": 4,
 "nbformat_minor": 4
}
