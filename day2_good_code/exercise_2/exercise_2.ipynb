{
 "cells": [
  {
   "cell_type": "code",
   "execution_count": 1,
   "id": "1a3cc37a",
   "metadata": {},
   "outputs": [],
   "source": [
    "import os"
   ]
  },
  {
   "cell_type": "markdown",
   "id": "6ca98c86",
   "metadata": {},
   "source": [
    "### Tasks:\n",
    "1. start the game by run plantTreasure.py in this notebook\n",
    "2. implement your code either in a .py file or in this notebook to find the planted \"treasure\""
   ]
  },
  {
   "cell_type": "markdown",
   "id": "74524ced",
   "metadata": {},
   "source": [
    "### (If we have talked about error-handling by now, try to implement the code with related knowledge.)"
   ]
  },
  {
   "cell_type": "code",
   "execution_count": 2,
   "id": "93a653d3",
   "metadata": {},
   "outputs": [
    {
     "data": {
      "text/plain": [
       "['exercise_2.ipynb', 'plantTreasure.py', 'solution']"
      ]
     },
     "execution_count": 2,
     "metadata": {},
     "output_type": "execute_result"
    }
   ],
   "source": [
    "# first let's see if you have plantTreasure.py in the current working directory\n",
    "os.listdir('./')\n",
    "\n",
    "# you should see plantTreasure.py\n",
    "\n",
    "# if so: continue\n",
    "# else: seek help (in this case, Google is NOT your friend)"
   ]
  },
  {
   "cell_type": "markdown",
   "id": "5b814b5a",
   "metadata": {},
   "source": [
    "### Goals for task 1:\n",
    "#### a. use os.system() to run command as if it's running in the shell\n",
    "#### b. run plantTreasure.py in the notebook, start the \"game\""
   ]
  },
  {
   "cell_type": "code",
   "execution_count": 4,
   "id": "f83ddade",
   "metadata": {},
   "outputs": [
    {
     "data": {
      "text/plain": [
       "1"
      ]
     },
     "execution_count": 4,
     "metadata": {},
     "output_type": "execute_result"
    }
   ],
   "source": [
    "# run this cell\n",
    "os.system(\"python plantTreasure.py\")"
   ]
  },
  {
   "cell_type": "code",
   "execution_count": null,
   "id": "6856e7ff",
   "metadata": {},
   "outputs": [],
   "source": [
    "# see what happened\n",
    "os.listdir('./')"
   ]
  },
  {
   "cell_type": "code",
   "execution_count": null,
   "id": "8b325507",
   "metadata": {},
   "outputs": [],
   "source": [
    "# you should see now a folder named \"startFolder\" was created"
   ]
  },
  {
   "cell_type": "markdown",
   "id": "59a72221",
   "metadata": {},
   "source": [
    "### Goals for task 2:\n",
    "#### a. use os.system() or other functions to see what is inside of the startFolder\n",
    "#### b. find out which folder under the \"startFolder\" contain the \"treasure\" (spoiler alert, it's a txt file named treasure.txt)"
   ]
  },
  {
   "cell_type": "markdown",
   "id": "2473b88b",
   "metadata": {},
   "source": [
    "#### tipps for task 2.a:\n",
    "    i. os.system(cmd_str), os.chdir(), os.getcwd(), etc can be helpful.\n",
    "    ii. use pwd to see where you are right now\n"
   ]
  },
  {
   "cell_type": "code",
   "execution_count": null,
   "id": "295ef6cd",
   "metadata": {},
   "outputs": [],
   "source": [
    "pwd"
   ]
  },
  {
   "cell_type": "code",
   "execution_count": null,
   "id": "a95a0878",
   "metadata": {},
   "outputs": [],
   "source": [
    "# code to inspect the startFolder"
   ]
  },
  {
   "cell_type": "markdown",
   "id": "12d59796",
   "metadata": {},
   "source": [
    "#### tipps for task 2.b:\n",
    "    i. click and open could work but there are more than 50 folders ...\n",
    "    ii. use a loop\n",
    "    iii. use os.listdir() to see what is inside a folder\n",
    "    iv. './' means current directory, '../' means the the parent directory (one up)"
   ]
  },
  {
   "cell_type": "code",
   "execution_count": null,
   "id": "6dbedc41",
   "metadata": {},
   "outputs": [],
   "source": [
    "# code to find where the treasure.txt file is"
   ]
  },
  {
   "cell_type": "code",
   "execution_count": null,
   "id": "5ddc039e",
   "metadata": {},
   "outputs": [],
   "source": []
  }
 ],
 "metadata": {
  "kernelspec": {
   "display_name": "Python 3 (ipykernel)",
   "language": "python",
   "name": "python3"
  },
  "language_info": {
   "codemirror_mode": {
    "name": "ipython",
    "version": 3
   },
   "file_extension": ".py",
   "mimetype": "text/x-python",
   "name": "python",
   "nbconvert_exporter": "python",
   "pygments_lexer": "ipython3",
   "version": "3.10.9"
  }
 },
 "nbformat": 4,
 "nbformat_minor": 5
}
