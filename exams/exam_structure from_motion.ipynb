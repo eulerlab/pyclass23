{
 "cells": [
  {
   "cell_type": "markdown",
   "id": "44050c6c-1482-46aa-bc64-83627827feb2",
   "metadata": {},
   "source": [
    "## Structure from motion (7,++) \n",
    "\n",
    "Write some code qualitatively replicating the structure-by-motion stimulus used in Lamme et al. (1998). The stimulus is a random dot pattern in which a central square region of dots moves in one direction (by a tiny amount and for a very brief time) and the background of dots moves in the opposite direction, leading to the percept of a square hovering above the background. The figure displaying the animated graphics should feature some GUI elements, minimally a ‘start’ or ‘go’ button, and one uicontrol each for the amount and duration of movement. \n",
    "\n",
    "Generating a proper stimulus is more difficult than may appear at first sight: the task is not simply one of shifting dots. You will e.g. have to take care of the ‘gaps’ that arise from shifting the central square of dots, etc.\n",
    "\n",
    "### Reference(s) \n",
    "\n",
    "Lamme VAF, Zipser K and Spekreijse H. (1998). \"Figure-ground activity in primary visual cortex is suppressed by anesthesia.\" PNAS 95:3263-3268"
   ]
  },
  {
   "cell_type": "code",
   "execution_count": null,
   "id": "d460a6fb-e2d8-4e70-97ef-a9d8a64779e8",
   "metadata": {},
   "outputs": [],
   "source": []
  }
 ],
 "metadata": {
  "kernelspec": {
   "display_name": "Python 3 (ipykernel)",
   "language": "python",
   "name": "python3"
  },
  "language_info": {
   "codemirror_mode": {
    "name": "ipython",
    "version": 3
   },
   "file_extension": ".py",
   "mimetype": "text/x-python",
   "name": "python",
   "nbconvert_exporter": "python",
   "pygments_lexer": "ipython3",
   "version": "3.8.8"
  }
 },
 "nbformat": 4,
 "nbformat_minor": 5
}
