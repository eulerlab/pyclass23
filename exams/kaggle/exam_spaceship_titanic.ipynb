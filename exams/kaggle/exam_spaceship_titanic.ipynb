{
 "cells": [
  {
   "cell_type": "markdown",
   "source": [
    "# Kaggle challenge: Spaceship Titanic\n",
    "\n",
    "Predict which passengers are transported to an alternate dimension\n",
    "\n",
    "Source: [kaggle](https://www.kaggle.com/competitions/spaceship-titanic/)\n",
    "\n",
    "## The Challenge\n",
    "Welcome to the year 2912, where your data science skills are needed to solve a cosmic mystery. We've received a transmission from four lightyears away and things aren't looking good.\n",
    "\n",
    "The Spaceship Titanic was an interstellar passenger liner launched a month ago. With almost 13,000 passengers on board, the vessel set out on its maiden voyage transporting emigrants from our solar system to three newly habitable exoplanets orbiting nearby stars.\n",
    "\n",
    "While rounding Alpha Centauri en route to its first destination—the torrid 55 Cancri E—the unwary Spaceship Titanic collided with a spacetime anomaly hidden within a dust cloud. Sadly, it met a similar fate as its namesake from 1000 years before. Though the ship stayed intact, almost half of the passengers were transported to an alternate dimension!\n",
    "\n",
    "To help rescue crews and retrieve the lost passengers, you are challenged to predict which passengers were transported by the anomaly using records recovered from the spaceship’s damaged computer system.\n",
    "\n",
    "Help save them and change history!\n",
    "\n",
    "## Metric\n",
    "Submissions are evaluated based on their classification accuracy, the percentage of predicted labels that are correct.\n",
    "\n",
    "## Dataset Description\n",
    "In this competition your task is to predict whether a passenger was transported to an alternate dimension during the Spaceship Titanic's collision with the spacetime anomaly. To help you make these predictions, you're given a set of personal records recovered from the ship's damaged computer system.\n",
    "\n",
    "## File and Data Field Descriptions\n",
    "train.csv - Personal records for about two-thirds (~8700) of the passengers, to be used as training data.\n",
    "- PassengerId - A unique Id for each passenger. Each Id takes the form gggg_pp where gggg indicates a group the passenger is travelling with and pp is their number within the group. People in a group are often family members, but not always.\n",
    "- HomePlanet - The planet the passenger departed from, typically their planet of permanent residence.\n",
    "- CryoSleep - Indicates whether the passenger elected to be put into suspended animation for the duration of the voyage. Passengers in cryosleep are confined to their cabins.\n",
    "- Cabin - The cabin number where the passenger is staying. Takes the form deck/num/side, where side can be either P for Port or S for Starboard.\n",
    "- Destination - The planet the passenger will be debarking to.\n",
    "- Age - The age of the passenger.\n",
    "- VIP - Whether the passenger has paid for special VIP service during the voyage.\n",
    " - RoomService, FoodCourt, ShoppingMall, Spa, VRDeck - Amount the passenger has billed at each of the Spaceship Titanic's many luxury amenities.\n",
    "- Name - The first and last names of the passenger.\n",
    "- Transported - Whether the passenger was transported to another dimension. This is the target, the column you are trying to predict."
   ],
   "metadata": {
    "collapsed": false
   }
  },
  {
   "cell_type": "code",
   "execution_count": 5,
   "outputs": [],
   "source": [
    "# Load data, download and set data_path first\n",
    "import os\n",
    "import pandas as pd\n",
    "\n",
    "data_path = \"./data/spaceship-titanic\"\n",
    "assert os.path.isdir(data_path)\n",
    "\n",
    "try:\n",
    "    df = pd.read_csv(f\"{data_path}/train.csv\")\n",
    "except FileNotFoundError:\n",
    "    raise FileNotFoundError('Download data and/or set correct data_path')"
   ],
   "metadata": {
    "collapsed": false
   }
  },
  {
   "cell_type": "code",
   "execution_count": 6,
   "outputs": [],
   "source": [
    "# Split your data into a training and test set.\n",
    "# We do not use the original test set here, because it does not contain the ground truth.\n",
    "# Do not use the test for anything else then the final model evaluation.\n",
    "\n",
    "from sklearn.model_selection import train_test_split\n",
    "\n",
    "df_train, df_test = train_test_split(df, test_size=0.2)"
   ],
   "metadata": {
    "collapsed": false
   }
  },
  {
   "cell_type": "code",
   "execution_count": 7,
   "outputs": [
    {
     "data": {
      "text/plain": "     PassengerId HomePlanet CryoSleep    Cabin  Destination   Age    VIP  \\\n406      0445_01      Earth     False   F/80/S  TRAPPIST-1e  25.0  False   \n6172     6514_01     Europa     False  B/251/S  55 Cancri e  28.0   True   \n2859     3088_01     Europa     False   A/25/P  TRAPPIST-1e  28.0  False   \n2637     2821_01      Earth      True  G/458/P  55 Cancri e  57.0  False   \n540      0571_04     Europa      True   C/21/P          NaN  30.0  False   \n\n      RoomService  FoodCourt  ShoppingMall     Spa  VRDeck  \\\n406        1352.0        0.0           0.0    24.0   799.0   \n6172         19.0       22.0        2974.0  3603.0   158.0   \n2859          0.0        0.0           0.0     0.0     0.0   \n2637          0.0        0.0           0.0     0.0     0.0   \n540           0.0        0.0           0.0     0.0     NaN   \n\n                    Name  Transported  \n406     Loria Marshopper        False  \n6172      Preo Openduave        False  \n2859     Dscha Dishearly        False  \n2637  Brance Shephendery         True  \n540       Izark Hednigic         True  ",
      "text/html": "<div>\n<style scoped>\n    .dataframe tbody tr th:only-of-type {\n        vertical-align: middle;\n    }\n\n    .dataframe tbody tr th {\n        vertical-align: top;\n    }\n\n    .dataframe thead th {\n        text-align: right;\n    }\n</style>\n<table border=\"1\" class=\"dataframe\">\n  <thead>\n    <tr style=\"text-align: right;\">\n      <th></th>\n      <th>PassengerId</th>\n      <th>HomePlanet</th>\n      <th>CryoSleep</th>\n      <th>Cabin</th>\n      <th>Destination</th>\n      <th>Age</th>\n      <th>VIP</th>\n      <th>RoomService</th>\n      <th>FoodCourt</th>\n      <th>ShoppingMall</th>\n      <th>Spa</th>\n      <th>VRDeck</th>\n      <th>Name</th>\n      <th>Transported</th>\n    </tr>\n  </thead>\n  <tbody>\n    <tr>\n      <th>406</th>\n      <td>0445_01</td>\n      <td>Earth</td>\n      <td>False</td>\n      <td>F/80/S</td>\n      <td>TRAPPIST-1e</td>\n      <td>25.0</td>\n      <td>False</td>\n      <td>1352.0</td>\n      <td>0.0</td>\n      <td>0.0</td>\n      <td>24.0</td>\n      <td>799.0</td>\n      <td>Loria Marshopper</td>\n      <td>False</td>\n    </tr>\n    <tr>\n      <th>6172</th>\n      <td>6514_01</td>\n      <td>Europa</td>\n      <td>False</td>\n      <td>B/251/S</td>\n      <td>55 Cancri e</td>\n      <td>28.0</td>\n      <td>True</td>\n      <td>19.0</td>\n      <td>22.0</td>\n      <td>2974.0</td>\n      <td>3603.0</td>\n      <td>158.0</td>\n      <td>Preo Openduave</td>\n      <td>False</td>\n    </tr>\n    <tr>\n      <th>2859</th>\n      <td>3088_01</td>\n      <td>Europa</td>\n      <td>False</td>\n      <td>A/25/P</td>\n      <td>TRAPPIST-1e</td>\n      <td>28.0</td>\n      <td>False</td>\n      <td>0.0</td>\n      <td>0.0</td>\n      <td>0.0</td>\n      <td>0.0</td>\n      <td>0.0</td>\n      <td>Dscha Dishearly</td>\n      <td>False</td>\n    </tr>\n    <tr>\n      <th>2637</th>\n      <td>2821_01</td>\n      <td>Earth</td>\n      <td>True</td>\n      <td>G/458/P</td>\n      <td>55 Cancri e</td>\n      <td>57.0</td>\n      <td>False</td>\n      <td>0.0</td>\n      <td>0.0</td>\n      <td>0.0</td>\n      <td>0.0</td>\n      <td>0.0</td>\n      <td>Brance Shephendery</td>\n      <td>True</td>\n    </tr>\n    <tr>\n      <th>540</th>\n      <td>0571_04</td>\n      <td>Europa</td>\n      <td>True</td>\n      <td>C/21/P</td>\n      <td>NaN</td>\n      <td>30.0</td>\n      <td>False</td>\n      <td>0.0</td>\n      <td>0.0</td>\n      <td>0.0</td>\n      <td>0.0</td>\n      <td>NaN</td>\n      <td>Izark Hednigic</td>\n      <td>True</td>\n    </tr>\n  </tbody>\n</table>\n</div>"
     },
     "execution_count": 7,
     "metadata": {},
     "output_type": "execute_result"
    }
   ],
   "source": [
    "df_train.head()"
   ],
   "metadata": {
    "collapsed": false
   }
  },
  {
   "cell_type": "code",
   "execution_count": null,
   "outputs": [],
   "source": [],
   "metadata": {
    "collapsed": false
   }
  }
 ],
 "metadata": {
  "kernelspec": {
   "display_name": "Python 3",
   "language": "python",
   "name": "python3"
  },
  "language_info": {
   "codemirror_mode": {
    "name": "ipython",
    "version": 2
   },
   "file_extension": ".py",
   "mimetype": "text/x-python",
   "name": "python",
   "nbconvert_exporter": "python",
   "pygments_lexer": "ipython2",
   "version": "2.7.6"
  }
 },
 "nbformat": 4,
 "nbformat_minor": 0
}
