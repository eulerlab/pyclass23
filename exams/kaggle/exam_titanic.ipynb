{
 "cells": [
  {
   "cell_type": "markdown",
   "source": [
    "# Kaggle challenge: Titanic - Machine Learning from Disaster\n",
    "\n",
    "Source: [kaggle](https://www.kaggle.com/competitions/titanic)\n",
    "\n",
    "Difficulty: beginner\n",
    "\n",
    "## The Challenge\n",
    "The sinking of the Titanic is one of the most infamous shipwrecks in history.\n",
    "\n",
    "On April 15, 1912, during her maiden voyage, the widely considered “unsinkable” RMS Titanic sank after colliding with an iceberg. Unfortunately, there weren’t enough lifeboats for everyone onboard, resulting in the death of 1502 out of 2224 passengers and crew.\n",
    "\n",
    "While there was some element of luck involved in surviving, it seems some groups of people were more likely to survive than others.\n",
    "\n",
    "In this challenge, we ask you to build a predictive model that answers the question: “what sorts of people were more likely to survive?” using passenger data (ie name, age, gender, socio-economic class, etc).\n",
    "\n",
    "### What Data Will I Use in This Competition?\n",
    "In this competition, you’ll gain access to two similar datasets that include passenger information like name, age, gender, socio-economic class, etc. One dataset is titled train.csv and the other is titled test.csv.\n",
    "\n",
    "Train.csv will contain the details of a subset of the passengers on board (891 to be exact) and importantly, will reveal whether they survived or not, also known as the “ground truth”.\n",
    "\n",
    "The test.csv dataset contains similar information but does not disclose the “ground truth” for each passenger. It’s your job to predict these outcomes.\n",
    "\n",
    "Using the patterns you find in the train.csv data, predict whether the other 418 passengers on board (found in test.csv) survived.\n",
    "\n",
    "Check out the “Data” tab to explore the datasets even further. Once you feel you’ve created a competitive model, submit it to Kaggle to see where your model stands on our leaderboard against other Kagglers.\n",
    "\n",
    "## Dataset Description\n",
    "The data has been split into two groups:\n",
    "\n",
    "- training set (train.csv)\n",
    "- test set (test.csv)\n",
    "\n",
    "The training set should be used to build your machine learning models. For the training set, we provide the outcome (also known as the “ground truth”) for each passenger. Your model will be based on “features” like passengers’ gender and class. You can also use feature engineering to create new features.\n",
    "\n",
    "The test set should be used to see how well your model performs on unseen data. For the test set, we do not provide the ground truth for each passenger. It is your job to predict these outcomes. For each passenger in the test set, use the model you trained to predict whether or not they survived the sinking of the Titanic.\n",
    "\n",
    "We also include gender_submission.csv, a set of predictions that assume all and only female passengers survive, as an example of what a submission file should look like."
   ],
   "metadata": {
    "collapsed": false
   }
  },
  {
   "cell_type": "code",
   "execution_count": 7,
   "outputs": [],
   "source": [
    "# Load data, download and set data_path first\n",
    "import os\n",
    "import pandas as pd\n",
    "\n",
    "data_path = \"./data/titanic\"\n",
    "assert os.path.isdir(data_path)\n",
    "\n",
    "try:\n",
    "    df = pd.read_csv(f\"{data_path}/train.csv\")\n",
    "except FileNotFoundError:\n",
    "    raise FileNotFoundError('Download data and/or set correct data_path')"
   ],
   "metadata": {
    "collapsed": false
   }
  },
  {
   "cell_type": "code",
   "execution_count": 8,
   "outputs": [],
   "source": [
    "# Split your data into a training and test set.\n",
    "# We do not use the original test set here, because it does not contain the ground truth.\n",
    "# Do not use the test for anything else then the final model evaluation.\n",
    "\n",
    "from sklearn.model_selection import train_test_split\n",
    "\n",
    "df_train, df_test = train_test_split(df, test_size=0.2)"
   ],
   "metadata": {
    "collapsed": false
   }
  },
  {
   "cell_type": "code",
   "execution_count": 9,
   "outputs": [
    {
     "data": {
      "text/plain": "     PassengerId  Survived  Pclass  \\\n608          609         1       2   \n753          754         0       3   \n218          219         1       1   \n189          190         0       3   \n763          764         1       1   \n\n                                                  Name     Sex   Age  SibSp  \\\n608  Laroche, Mrs. Joseph (Juliette Marie Louise La...  female  22.0      1   \n753                                 Jonkoff, Mr. Lalio    male  23.0      0   \n218                              Bazzani, Miss. Albina  female  32.0      0   \n189                                Turcin, Mr. Stjepan    male  36.0      0   \n763          Carter, Mrs. William Ernest (Lucile Polk)  female  36.0      1   \n\n     Parch         Ticket      Fare    Cabin Embarked  \n608      2  SC/Paris 2123   41.5792      NaN        C  \n753      0         349204    7.8958      NaN        S  \n218      0          11813   76.2917      D15        C  \n189      0         349247    7.8958      NaN        S  \n763      2         113760  120.0000  B96 B98        S  ",
      "text/html": "<div>\n<style scoped>\n    .dataframe tbody tr th:only-of-type {\n        vertical-align: middle;\n    }\n\n    .dataframe tbody tr th {\n        vertical-align: top;\n    }\n\n    .dataframe thead th {\n        text-align: right;\n    }\n</style>\n<table border=\"1\" class=\"dataframe\">\n  <thead>\n    <tr style=\"text-align: right;\">\n      <th></th>\n      <th>PassengerId</th>\n      <th>Survived</th>\n      <th>Pclass</th>\n      <th>Name</th>\n      <th>Sex</th>\n      <th>Age</th>\n      <th>SibSp</th>\n      <th>Parch</th>\n      <th>Ticket</th>\n      <th>Fare</th>\n      <th>Cabin</th>\n      <th>Embarked</th>\n    </tr>\n  </thead>\n  <tbody>\n    <tr>\n      <th>608</th>\n      <td>609</td>\n      <td>1</td>\n      <td>2</td>\n      <td>Laroche, Mrs. Joseph (Juliette Marie Louise La...</td>\n      <td>female</td>\n      <td>22.0</td>\n      <td>1</td>\n      <td>2</td>\n      <td>SC/Paris 2123</td>\n      <td>41.5792</td>\n      <td>NaN</td>\n      <td>C</td>\n    </tr>\n    <tr>\n      <th>753</th>\n      <td>754</td>\n      <td>0</td>\n      <td>3</td>\n      <td>Jonkoff, Mr. Lalio</td>\n      <td>male</td>\n      <td>23.0</td>\n      <td>0</td>\n      <td>0</td>\n      <td>349204</td>\n      <td>7.8958</td>\n      <td>NaN</td>\n      <td>S</td>\n    </tr>\n    <tr>\n      <th>218</th>\n      <td>219</td>\n      <td>1</td>\n      <td>1</td>\n      <td>Bazzani, Miss. Albina</td>\n      <td>female</td>\n      <td>32.0</td>\n      <td>0</td>\n      <td>0</td>\n      <td>11813</td>\n      <td>76.2917</td>\n      <td>D15</td>\n      <td>C</td>\n    </tr>\n    <tr>\n      <th>189</th>\n      <td>190</td>\n      <td>0</td>\n      <td>3</td>\n      <td>Turcin, Mr. Stjepan</td>\n      <td>male</td>\n      <td>36.0</td>\n      <td>0</td>\n      <td>0</td>\n      <td>349247</td>\n      <td>7.8958</td>\n      <td>NaN</td>\n      <td>S</td>\n    </tr>\n    <tr>\n      <th>763</th>\n      <td>764</td>\n      <td>1</td>\n      <td>1</td>\n      <td>Carter, Mrs. William Ernest (Lucile Polk)</td>\n      <td>female</td>\n      <td>36.0</td>\n      <td>1</td>\n      <td>2</td>\n      <td>113760</td>\n      <td>120.0000</td>\n      <td>B96 B98</td>\n      <td>S</td>\n    </tr>\n  </tbody>\n</table>\n</div>"
     },
     "execution_count": 9,
     "metadata": {},
     "output_type": "execute_result"
    }
   ],
   "source": [
    "df_train.head()"
   ],
   "metadata": {
    "collapsed": false
   }
  },
  {
   "cell_type": "code",
   "execution_count": null,
   "outputs": [],
   "source": [],
   "metadata": {
    "collapsed": false,
    "pycharm": {
     "is_executing": true
    }
   }
  },
  {
   "cell_type": "code",
   "execution_count": 3,
   "outputs": [],
   "source": [],
   "metadata": {
    "collapsed": false
   }
  }
 ],
 "metadata": {
  "kernelspec": {
   "display_name": "Python 3",
   "language": "python",
   "name": "python3"
  },
  "language_info": {
   "codemirror_mode": {
    "name": "ipython",
    "version": 2
   },
   "file_extension": ".py",
   "mimetype": "text/x-python",
   "name": "python",
   "nbconvert_exporter": "python",
   "pygments_lexer": "ipython2",
   "version": "2.7.6"
  }
 },
 "nbformat": 4,
 "nbformat_minor": 0
}
