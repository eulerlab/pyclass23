{
 "cells": [
  {
   "cell_type": "code",
   "execution_count": null,
   "id": "390672e8",
   "metadata": {},
   "outputs": [],
   "source": [
    "from aseriouspackage import init\n",
    "import random"
   ]
  },
  {
   "cell_type": "markdown",
   "id": "1ab7d4ff",
   "metadata": {},
   "source": [
    "### Tasks: A five-letter English word is encoded, with one prime number(between 100~1000) and the built-in hash( ) function, try to find out:\n",
    "    1. which prime number was used to encode?\n",
    "    2. what is the five-letter English word?"
   ]
  },
  {
   "cell_type": "markdown",
   "id": "61884177",
   "metadata": {},
   "source": [
    "### Here is how I encoded the word:\n",
    "\n",
    "    Step 1: A prime number is picked and it's HASH-value is generated \n",
    "        e.g. key = hash(a_prime_number) # a 'random' integer: 4669897555581014620 \n",
    "\n",
    "    Step 2: The HASH-value for this encoded word is generated using hash() as well\n",
    "        e.g. encoded_word = hash(a_guessed_word) # a 'random' integer: 267532310233205369\n",
    "\n",
    "     Step 3: present the product of two hash_values above to students and let them guess\n",
    "        e.g. received_msg = key*encoded_word # a 'random' integer: 1249348481596987416073840723851494780"
   ]
  },
  {
   "cell_type": "markdown",
   "id": "74003186",
   "metadata": {},
   "source": [
    "#### tipps:\n",
    "        1. Within a same jupyter-notebook session, hash('561') will always return the same HASH-value, untill the notebook is restarted.\n",
    "        2. To solve this task, try following my encryption steps above.(e.g. use a nested loop)\n",
    "        3. Compare the product of each product of two HASH-value with the one you received to determine if you have find the right key-word pair.\n",
    "        4. The polarity of HASH-values matters"
   ]
  },
  {
   "cell_type": "code",
   "execution_count": null,
   "id": "f00e6150",
   "metadata": {},
   "outputs": [],
   "source": [
    "# start the task by running this line of code\n",
    "# the number you see is the 'received_msg'\n",
    "# If you restart the notebook, the received_msg you see will be different\n",
    "init.puzzleStart()"
   ]
  },
  {
   "cell_type": "code",
   "execution_count": null,
   "id": "b43c01da",
   "metadata": {
    "scrolled": true
   },
   "outputs": [],
   "source": [
    "# you might want to copy&past the value you see above\n",
    "received_msg = # fill-in"
   ]
  },
  {
   "cell_type": "markdown",
   "id": "9a76cc66",
   "metadata": {},
   "source": [
    "### implement a loop to guess the prime number\n",
    "#### The provided code down below only shows one iteration of guesses, you need to construct a nested-loop yourself if you want"
   ]
  },
  {
   "cell_type": "code",
   "execution_count": null,
   "id": "03e8940a",
   "metadata": {},
   "outputs": [],
   "source": [
    "# code to guess the prime number (the key)\n",
    "\n",
    "# first, find all prime numbers between 100 and 1000\n",
    "primes = []\n",
    "for num in range(100,1000):\n",
    "    if :\n",
    "    # num is prime\n",
    "        primes.append(num)"
   ]
  },
  {
   "cell_type": "markdown",
   "id": "eac98e61",
   "metadata": {},
   "source": [
    "### implement a loop to guess the word\n",
    "#### The provided code down below only shows one iteration of guesses, you need to construct a nested-loop yourself if you want"
   ]
  },
  {
   "cell_type": "code",
   "execution_count": null,
   "id": "23c038a9",
   "metadata": {},
   "outputs": [],
   "source": [
    "# code to guess the 5-letter word (the encoded_word)\n",
    "\n",
    "# only 24 letters are used \n",
    "# j and z are not included intentionally\n",
    "letters = ['a','b','c','d','e','f','g','h','i','k','l',\n",
    "          'm','n','o','p','q','r','s','t','u','v','w','x',\n",
    "           'y']\n",
    "# len(letters), output 24"
   ]
  },
  {
   "cell_type": "code",
   "execution_count": null,
   "id": "a2c15cad",
   "metadata": {},
   "outputs": [],
   "source": [
    "## construct a 5-letter english word:\n",
    "## a (bad?) example: \n",
    "\n",
    "# find 5 random integer between [0,24), representing the indices \n",
    "indices = random.sample(range(0,len(letters)),5) \n",
    "\n",
    "# careful!!! random.sample() returns only unique options\n",
    "# e.g. 'apple' can't be generated\n",
    "\n",
    "\n",
    "# construct a list of 5 randomly selected letters\n",
    "guess = [letters[index] for index in indices]"
   ]
  },
  {
   "cell_type": "code",
   "execution_count": null,
   "id": "35ea151a",
   "metadata": {},
   "outputs": [],
   "source": [
    "# see what the guess looks like \n",
    "print(guess)"
   ]
  },
  {
   "cell_type": "code",
   "execution_count": null,
   "id": "fca1dfeb",
   "metadata": {},
   "outputs": [],
   "source": [
    "# How can you fix the bug, so that 'apple' can be generated?"
   ]
  },
  {
   "cell_type": "code",
   "execution_count": null,
   "id": "82749285",
   "metadata": {},
   "outputs": [],
   "source": [
    "# see the pseudo word, using function join()\n",
    "guessed_word =''.join(guess)\n",
    "print(guessed_word)"
   ]
  },
  {
   "cell_type": "markdown",
   "id": "d7335947",
   "metadata": {},
   "source": [
    "### implement a loop to determine if the guessed key-word pair is correct\n",
    "#### The provided code down below only shows one iteration of guesses, you need to construct a nested-loop yourself if you want"
   ]
  },
  {
   "cell_type": "code",
   "execution_count": null,
   "id": "83230919",
   "metadata": {},
   "outputs": [],
   "source": [
    "for prime in primes:\n",
    "    # the primes list contained all the prime numbers between 100 and 1000\n",
    "    # the encoded_word is the hash-value of your guess word\n",
    "    if hash(prime)*hash(guessed_word) == received_msg:\n",
    "        print('CORRECT')\n",
    "        print(\"the key is: \",prime)\n",
    "        print(\"the word is: \",guessed_word)\n",
    "    else:\n",
    "        # next guess iteration\n",
    "        "
   ]
  }
 ],
 "metadata": {
  "kernelspec": {
   "display_name": "Python 3",
   "language": "python",
   "name": "python3"
  },
  "language_info": {
   "codemirror_mode": {
    "name": "ipython",
    "version": 3
   },
   "file_extension": ".py",
   "mimetype": "text/x-python",
   "name": "python",
   "nbconvert_exporter": "python",
   "pygments_lexer": "ipython3",
   "version": "3.9.13"
  }
 },
 "nbformat": 4,
 "nbformat_minor": 5
}
